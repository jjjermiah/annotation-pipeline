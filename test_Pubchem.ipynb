{
 "cells": [
  {
   "cell_type": "code",
   "execution_count": 10,
   "metadata": {
    "vscode": {
     "languageId": "r"
    }
   },
   "outputs": [],
   "source": [
    "library(AnnotationGx)\n",
    "library(data.table)\n",
    "library(httr)\n",
    "library(jsonlite)"
   ]
  },
  {
   "cell_type": "code",
   "execution_count": 2,
   "metadata": {
    "vscode": {
     "languageId": "r"
    }
   },
   "outputs": [],
   "source": [
    "ctrp_pubchem <- readRDS(\"/home/bioinf/bhklab/jermiah/projects/annotationScripts/results/ctrp/pubchem_preproccessed.RDS\")\n",
    "\n",
    "ctrp.treatment.metadata <- ctrp_pubchem$ctrp.treatment.metadata\n",
    "successful_master_cpd_ids <- ctrp_pubchem$successful_master_cpd_ids\n",
    "failed_master_cpd_ids <- ctrp_pubchem$failed_master_cpd_ids"
   ]
  },
  {
   "cell_type": "code",
   "execution_count": 6,
   "metadata": {
    "vscode": {
     "languageId": "r"
    }
   },
   "outputs": [],
   "source": [
    "merged <- merge.data.table(ctrp.treatment.metadata ,successful_master_cpd_ids, by.x = \"master_cpd_id\", by.y = \"master_cpd_id\", all.x = TRUE, all.y = FALSE)\n"
   ]
  },
  {
   "cell_type": "markdown",
   "metadata": {},
   "source": []
  },
  {
   "cell_type": "code",
   "execution_count": 12,
   "metadata": {
    "vscode": {
     "languageId": "r"
    }
   },
   "outputs": [],
   "source": [
    "buildURL <- function(...) paste0(na.omit(unlist(list(...))), collapse='/')\n",
    "\n",
    "parseJSON <- function(response, ..., encoding='UTF-8', query_only=FALSE) {\n",
    "    if (isTRUE(query_only)) return(response)\n",
    "    tryCatch({\n",
    "        fromJSON(content(response, ..., as='text', type='JSON',\n",
    "            encoding=encoding))\n",
    "    },\n",
    "    error=function(e) {\n",
    "        fromJSON(content(response, ..., type='JSON', encoding=encoding))\n",
    "    })\n",
    "}\n",
    "\n",
    "checkThrottlingStatus <- function(result){\n",
    "    message <- headers(result)$`x-throttling-control`\n",
    "    matches <- regmatches(message, gregexpr(\"\\\\((.*?)%\\\\)\", message))  # Extracts text within parentheses\n",
    "    percentages <- gsub(\"\\\\(|%|\\\\)\", \"\", unlist(matches[1:3]))\n",
    "    # print(percentages)\n",
    "    percentage <- max(as.numeric(percentages))\n",
    "    if(as.integer(percentage) > 15 && as.integer(percentage) < 30){\n",
    "        Sys.sleep(15)\n",
    "    }else if (as.integer(percentage) > 30 && as.integer(percentage) < 50){\n",
    "        Sys.sleep(20)\n",
    "    }else if (as.integer(percentage) > 50 && as.integer(percentage) < 75) {\n",
    "        print(paste0(\"Throttling at \", percentage, \"%. Sleeping for 30 seconds.\"))\n",
    "        Sys.sleep(30)\n",
    "    }else if (as.integer(percentage) > 75) {\n",
    "        print(paste0(\"Throttling at \", percentage, \"%. Sleeping for 60 seconds.\"))\n",
    "        Sys.sleep(30)\n",
    "    }else{\n",
    "        Sys.sleep(1)\n",
    "    }   \n",
    "}"
   ]
  },
  {
   "cell_type": "code",
   "execution_count": 14,
   "metadata": {
    "vscode": {
     "languageId": "r"
    }
   },
   "outputs": [],
   "source": [
    "getPubChemCHEMBL <- function(\n",
    "    compound,\n",
    "    url = 'https://pubchem.ncbi.nlm.nih.gov/rest/pug_view/data/compound',\n",
    "    output = 'JSON',\n",
    "    type = 'ChEMBL ID',\n",
    "    timeout_s = 29,\n",
    "    retries = 3,\n",
    "    quiet = TRUE\n",
    "    ){\n",
    "        if(type == \"DILI\") queryURL <- paste0(buildURL(url, compound, output), '?heading=', \"Drug Induced Liver Injury\")\n",
    "        else queryURL <- paste0(buildURL(url, compound, output), '?heading=', type)\n",
    "\n",
    "        tryCatch({\n",
    "            result <- RETRY('GET', URLencode(queryURL), times = retries, quiet = quiet)\n",
    "        }, error=function(e) {\n",
    "            print(paste0(\"Error: \", e$message))\n",
    "            return(NULL)\n",
    "        })\n",
    "        \n",
    "        checkThrottlingStatus(result)\n",
    "        result <- parseJSON(result)\n",
    "\n",
    "        if (type == 'ChEMBL ID') {\n",
    "            result <- result$Record$Reference$SourceID\n",
    "            result <- gsub(\"::Compound\", \"\", result)\n",
    "        }else if (type == 'NSC Number'){\n",
    "            result <- result$Record$Reference$SourceID[1]\n",
    "            result <- gsub(\" \", \"\", result)\n",
    "        }else if (type == 'DILI'){\n",
    "            if(length(result$Record$Section) == 0){\n",
    "                result <- \"NA\"\n",
    "                \n",
    "            }else{\n",
    "                dt_ <- as.data.table(result$Record$Section)\n",
    "                dt_ <- as.data.table(dt_)$Section[[1]]\n",
    "                dt_ <- as.data.table(dt_)$Section\n",
    "                dt_ <- as.data.table(dt_)\n",
    "                dt_ <- as.data.table(dt_)$Information\n",
    "                # print(as.data.table(dt_)[1:3,  .(Name,unlist(Value))])\n",
    "                section <- as.data.table(dt_)[1:3, \"DILI\" := paste0(unlist(Name), \":\", unlist(Value))]\n",
    "                section <- paste0(section[1:4, DILI], collapse= \"; \")\n",
    "\n",
    "                # create a list for each row as Name:Value string with no spaces and no new lines\n",
    "                reference <- paste0(\"LTKBID:\", result$Record$Reference$SourceID)\n",
    "                result <- c(section, reference)\n",
    "                result <- paste0(result, collapse = \"; \")\n",
    "            }\n",
    "        }else if (type == 'CAS'){\n",
    "            result <- result$Record$Reference$SourceID[1]\n",
    "        }else if (type == 'ATC Code'){\n",
    "            if(length(result$Record$Section) == 0){\n",
    "                result <- \"NA\"\n",
    "                \n",
    "            }else{dt_ <- as.data.table(result$Record$Section)\n",
    "            dt_ <- as.data.table(dt_)$Section[[1]]\n",
    "            dt_ <- as.data.table(dt_)$Information\n",
    "            dt_ <- as.data.table(dt_)$Value\n",
    "            dt_ <- as.data.table(dt_[1])\n",
    "            result <- paste0(\"ATC:\", dt_)}\n",
    "        }\n",
    "        \n",
    "        if (is.null(result)) result <- list(compound, \"N/A\")\n",
    "        else result <- list(compound,result)\n",
    "        names(result) <- c(\"cid\", type)\n",
    "        return(result)\n",
    "    }\n",
    "merged <- merged[!lapply(merged$cids, is.null) == TRUE,]\n",
    "test_CID <-  2375  \n",
    "\n",
    "annotations <- c('ChEMBL ID', 'NSC Number', 'DILI', 'CAS', 'ATC Code')\n",
    "# getPubChemCHEMBL(merged$cids[13], type = \"DILI\")\n",
    "# lapply(annotations, function(x) as.data.table(getPubChemCHEMBL(test_CID, type = x)))"
   ]
  },
  {
   "cell_type": "code",
   "execution_count": 17,
   "metadata": {
    "vscode": {
     "languageId": "r"
    }
   },
   "outputs": [
    {
     "name": "stdout",
     "output_type": "stream",
     "text": [
      "  |======================================================================| 100%\n",
      "\n"
     ]
    }
   ],
   "source": [
    "# merged$cids[1:10]\n",
    "\n",
    "annotations <- c('ChEMBL ID', 'NSC Number', 'DILI', 'CAS', 'ATC Code')\n",
    "# parallelRun<- BiocParallel::MulticoreParam(workers=8, progressbar=TRUE, stop.on.error=FALSE)\n",
    "\n",
    "result <- \n",
    "    suppressWarnings(rbindlist(\n",
    "        BiocParallel::bptry(\n",
    "                BiocParallel::bplapply(\n",
    "            c(merged$cids[1:50]), function(y){\n",
    "                BiocParallel::bptry(\n",
    "                    annotationCID <- BiocParallel::bplapply(annotations, function(x) {\n",
    "                        as.data.table(getPubChemCHEMBL(y, type = x))\n",
    "                        },\n",
    "                        BPPARAM = BiocParallel::MulticoreParam(workers = 5, stop.on.error=FALSE)\n",
    "                    )\n",
    "                )\n",
    "                Reduce(function(x, y) merge(x, y, allow.cartesian = TRUE), annotationCID)\n",
    "            },\n",
    "            BPPARAM = BiocParallel::MulticoreParam(workers = 6, progressbar = TRUE, stop.on.error=FALSE)\n",
    "        )\n",
    "    ),\n",
    "    fill = TRUE,\n",
    "))\n",
    "# save result to RDS file \n",
    "saveRDS(result, \"ctrp_pubchem_annotations.RDS\")"
   ]
  },
  {
   "cell_type": "code",
   "execution_count": 19,
   "metadata": {
    "vscode": {
     "languageId": "r"
    }
   },
   "outputs": [
    {
     "data": {
      "text/html": [
       "<table class=\"dataframe\">\n",
       "<caption>A data.table: 61 × 6</caption>\n",
       "<thead>\n",
       "\t<tr><th scope=col>cid</th><th scope=col>ChEMBL ID</th><th scope=col>NSC Number</th><th scope=col>DILI</th><th scope=col>CAS</th><th scope=col>ATC Code</th></tr>\n",
       "\t<tr><th scope=col>&lt;int&gt;</th><th scope=col>&lt;chr&gt;</th><th scope=col>&lt;chr&gt;</th><th scope=col>&lt;chr&gt;</th><th scope=col>&lt;chr&gt;</th><th scope=col>&lt;chr&gt;</th></tr>\n",
       "</thead>\n",
       "<tbody>\n",
       "\t<tr><td>  6623618</td><td>CHEMBL492468 </td><td>NA       </td><td>NA                                                                                                    </td><td>N/A        </td><td>NA                                                                                                                                                                                                                                                                                                                                                                                                                                                                                                                                                                                                   </td></tr>\n",
       "\t<tr><td>  7326481</td><td>CHEMBL1300397</td><td>NA       </td><td>NA                                                                                                    </td><td>N/A        </td><td>NA                                                                                                                                                                                                                                                                                                                                                                                                                                                                                                                                                                                                   </td></tr>\n",
       "\t<tr><td>  1641662</td><td>NA           </td><td>NA       </td><td>NA                                                                                                    </td><td>N/A        </td><td>NA                                                                                                                                                                                                                                                                                                                                                                                                                                                                                                                                                                                                   </td></tr>\n",
       "\t<tr><td>  2842253</td><td>CHEMBL1526042</td><td>NA       </td><td>NA                                                                                                    </td><td>N/A        </td><td>NA                                                                                                                                                                                                                                                                                                                                                                                                                                                                                                                                                                                                   </td></tr>\n",
       "\t<tr><td>  2729026</td><td>CHEMBL1402326</td><td>NA       </td><td>NA                                                                                                    </td><td>N/A        </td><td>NA                                                                                                                                                                                                                                                                                                                                                                                                                                                                                                                                                                                                   </td></tr>\n",
       "\t<tr><td>   613000</td><td>CHEMBL4303295</td><td>NA       </td><td>NA                                                                                                    </td><td>32703-82-5 </td><td>NA                                                                                                                                                                                                                                                                                                                                                                                                                                                                                                                                                                                                   </td></tr>\n",
       "\t<tr><td>   444795</td><td>CHEMBL38     </td><td>NSC759631</td><td>Compound:tretinoin; DILI Annotation:Ambiguous DILI-concern; Severity Grade:3; NA; LTKBID:LT00338      </td><td>302-79-4   </td><td>ATC:D10AD51                                                                                                                                                                                                                                                                                                                                                                                                                                                                                                                                                                                          </td></tr>\n",
       "\t<tr><td>    64971</td><td>CHEMBL269277 </td><td>NSC677578</td><td>NA                                                                                                    </td><td>472-15-1   </td><td>NA                                                                                                                                                                                                                                                                                                                                                                                                                                                                                                                                                                                                   </td></tr>\n",
       "\t<tr><td>     4788</td><td>CHEMBL45068  </td><td>NSC407292</td><td>NA                                                                                                    </td><td>60-82-2    </td><td>NA                                                                                                                                                                                                                                                                                                                                                                                                                                                                                                                                                                                                   </td></tr>\n",
       "\t<tr><td>     5426</td><td>CHEMBL468    </td><td>NSC758479</td><td>Compound:thalidomide; DILI Annotation:Less-DILI-Concern; Severity Grade:4; NA; LTKBID:LT00450         </td><td>21096      </td><td>ATC:L04AX02                                                                                                                                                                                                                                                                                                                                                                                                                                                                                                                                                                                          </td></tr>\n",
       "\t<tr><td>     3503</td><td>CHEMBL51483  </td><td>NSC728875</td><td>NA                                                                                                    </td><td>20300-26-9 </td><td>NA                                                                                                                                                                                                                                                                                                                                                                                                                                                                                                                                                                                                   </td></tr>\n",
       "\t<tr><td>     2708</td><td>CHEMBL515    </td><td>NSC756674</td><td>Compound:chlorambucil; DILI Annotation:Less-DILI-Concern; Severity Grade:3; NA; LTKBID:LT00286        </td><td>16180      </td><td>ATC:L01AA02                                                                                                                                                                                                                                                                                                                                                                                                                                                                                                                                                                                          </td></tr>\n",
       "\t<tr><td>     3385</td><td>CHEMBL185    </td><td>NSC757036</td><td>Compound:fluorouracil; DILI Annotation:Less-DILI-Concern; Label Section:No match; NA; LTKBID:LT01029  </td><td>5005       </td><td>ATC:L01BC02                                                                                                                                                                                                                                                                                                                                                                                                                                                                                                                                                                                          </td></tr>\n",
       "\t<tr><td>   638278</td><td>CHEMBL129795 </td><td>NA       </td><td>NA                                                                                                    </td><td>961-29-5   </td><td>NA                                                                                                                                                                                                                                                                                                                                                                                                                                                                                                                                                                                                   </td></tr>\n",
       "\t<tr><td>     2756</td><td>CHEMBL30     </td><td>NSC757428</td><td>Compound:cimetidine; DILI Annotation:Less-DILI-Concern; Severity Grade:2; NA; LTKBID:LT01218          </td><td>20034      </td><td>ATC:c(\"A - Alimentary tract and metabolism\", \"A02 - Drugs for acid related disorders\", \"A02B - Drugs for peptic ulcer and gastro-oesophageal reflux disease (gord)\", \"A02BA - H2-receptor antagonists\", \"A02BA01 - Cimetidine\")                                                                                                                                                                                                                                                                                                                                                                      </td></tr>\n",
       "\t<tr><td>     2756</td><td>CHEMBL30     </td><td>NSC757428</td><td>Compound:cimetidine; DILI Annotation:Less-DILI-Concern; Severity Grade:2; NA; LTKBID:LT01218          </td><td>20034      </td><td>ATC:list(list(Start = 0, Length = 1, URL = \"https://www.whocc.no/atc_ddd_index/?code=A\"), list(Start = 0, Length = 3, URL = \"https://www.whocc.no/atc_ddd_index/?code=A02\"), list(Start = 0, Length = 4, URL = \"https://www.whocc.no/atc_ddd_index/?code=A02B\"), list(Start = c(0, 9), Length = c(5, 1), URL = c(\"https://www.whocc.no/atc_ddd_index/?code=A02BA\", NA), Type = c(NA, \"Subscript\")), list(Start = 0, Length = 7, URL = \"https://www.whocc.no/atc_ddd_index/?code=A02BA01\"))                                                                                                           </td></tr>\n",
       "\t<tr><td>     9444</td><td>CHEMBL1489   </td><td>NSC758186</td><td>Compound:azacitidine; DILI Annotation:Ambiguous DILI-concern; Severity Grade:8; NA; LTKBID:LT01028    </td><td>19834      </td><td>ATC:L01BC07                                                                                                                                                                                                                                                                                                                                                                                                                                                                                                                                                                                          </td></tr>\n",
       "\t<tr><td>     5566</td><td>CHEMBL422    </td><td>NA       </td><td>Compound:trifluoperazine; DILI Annotation:Ambiguous DILI-concern; Severity Grade:2; NA; LTKBID:LT00457</td><td>117-89-5   </td><td>ATC:c(\"N - Nervous system\", \"N05 - Psycholeptics\", \"N05A - Antipsychotics\", \"N05AB - Phenothiazines with piperazine structure\", \"N05AB06 - Trifluoperazine\")                                                                                                                                                                                                                                                                                                                                                                                                                                         </td></tr>\n",
       "\t<tr><td>     5566</td><td>CHEMBL422    </td><td>NA       </td><td>Compound:trifluoperazine; DILI Annotation:Ambiguous DILI-concern; Severity Grade:2; NA; LTKBID:LT00457</td><td>117-89-5   </td><td>ATC:list(list(Start = 0, Length = 1, URL = \"https://www.whocc.no/atc_ddd_index/?code=N\"), list(Start = 0, Length = 3, URL = \"https://www.whocc.no/atc_ddd_index/?code=N05\"), list(Start = 0, Length = 4, URL = \"https://www.whocc.no/atc_ddd_index/?code=N05A\"), list(Start = c(0, 28), Length = c(5, 10), URL = c(\"https://www.whocc.no/atc_ddd_index/?code=N05AB\", \"https://pubchem.ncbi.nlm.nih.gov/compound/piperazine\"), Type = c(NA, \"PubChem Internal Link\"), Extra = c(NA, \"CID-4837\")), list(Start = 0, Length = 7, \n",
       "    URL = \"https://www.whocc.no/atc_ddd_index/?code=N05AB06\"))        </td></tr>\n",
       "\t<tr><td>    36314</td><td>CHEMBL428647 </td><td>NSC745099</td><td>Compound:paclitaxel; DILI Annotation:Less-DILI-Concern; Severity Grade:4; NA; LTKBID:LT00430          </td><td>21061      </td><td>ATC:L01CD01                                                                                                                                                                                                                                                                                                                                                                                                                                                                                                                                                                                          </td></tr>\n",
       "\t<tr><td>  2733526</td><td>CHEMBL83     </td><td>NSC727681</td><td>Compound:tamoxifen; DILI Annotation:Most-DILI-Concern; Severity Grade:8; NA; LTKBID:LT00152           </td><td>10540-29-1 </td><td>ATC:L02BA01                                                                                                                                                                                                                                                                                                                                                                                                                                                                                                                                                                                          </td></tr>\n",
       "\t<tr><td>   426756</td><td>NA           </td><td>NSC758182</td><td>Compound:carboplatin; DILI Annotation:Less-DILI-Concern; Severity Grade:3; NA; LTKBID:LT00061         </td><td>NSC 758182 </td><td>ATC:L01XA02                                                                                                                                                                                                                                                                                                                                                                                                                                                                                                                                                                                          </td></tr>\n",
       "\t<tr><td>   452548</td><td>CHEMBL452231 </td><td>NA       </td><td>Compound:teniposide; DILI Annotation:Less-DILI-Concern; Severity Grade:3; NA; LTKBID:LT01786          </td><td>29767-20-2 </td><td>ATC:c(\"L - Antineoplastic and immunomodulating agents\", \"L01 - Antineoplastic agents\", \"L01C - Plant alkaloids and other natural products\", \"L01CB - Podophyllotoxin derivatives\", \"L01CB02 - Teniposide\")                                                                                                                                                                                                                                                                                                                                                                                           </td></tr>\n",
       "\t<tr><td>   452548</td><td>CHEMBL452231 </td><td>NA       </td><td>Compound:teniposide; DILI Annotation:Less-DILI-Concern; Severity Grade:3; NA; LTKBID:LT01786          </td><td>29767-20-2 </td><td>ATC:list(list(Start = 0, Length = 1, URL = \"https://www.whocc.no/atc_ddd_index/?code=L\"), list(Start = 0, Length = 3, URL = \"https://www.whocc.no/atc_ddd_index/?code=L01\"), list(Start = 0, Length = 4, URL = \"https://www.whocc.no/atc_ddd_index/?code=L01C\"), list(Start = c(0, 8), Length = c(5, 15), URL = c(\"https://www.whocc.no/atc_ddd_index/?code=L01CB\", \"https://pubchem.ncbi.nlm.nih.gov/compound/Podophyllotoxin\"), Type = c(NA, \"PubChem Internal Link\"), Extra = c(NA, \"CID-11384429\")), list(Start = 0, \n",
       "    Length = 7, URL = \"https://www.whocc.no/atc_ddd_index/?code=L01CB02\"))</td></tr>\n",
       "\t<tr><td>135398744</td><td>CHEMBL192    </td><td>NA       </td><td>Compound:sildenafil; DILI Annotation:Less-DILI-Concern; Severity Grade:3; NA; LTKBID:LT01033          </td><td>139755-83-2</td><td>ATC:G04BE03                                                                                                                                                                                                                                                                                                                                                                                                                                                                                                                                                                                          </td></tr>\n",
       "\t<tr><td>    54454</td><td>CHEMBL1064   </td><td>NSC758706</td><td>Compound:simvastatin; DILI Annotation:Less-DILI-Concern; Severity Grade:3; NA; LTKBID:LT00142         </td><td>79902-63-9 </td><td>ATC:C10AA01                                                                                                                                                                                                                                                                                                                                                                                                                                                                                                                                                                                          </td></tr>\n",
       "\t<tr><td>    26596</td><td>CHEMBL528271 </td><td>NSC256420</td><td>NA                                                                                                    </td><td>20833      </td><td>NA                                                                                                                                                                                                                                                                                                                                                                                                                                                                                                                                                                                                   </td></tr>\n",
       "\t<tr><td>     4915</td><td>CHEMBL1321   </td><td>NSC759626</td><td>Compound:procarbazine; DILI Annotation:Less-DILI-Concern; Severity Grade:3; NA; LTKBID:LT00614        </td><td>671-16-9   </td><td>ATC:c(\"L - Antineoplastic and immunomodulating agents\", \"L01 - Antineoplastic agents\", \"L01X - Other antineoplastic agents\", \"L01XB - Methylhydrazines\", \"L01XB01 - Procarbazine\")                                                                                                                                                                                                                                                                                                                                                                                                                   </td></tr>\n",
       "\t<tr><td>     4915</td><td>CHEMBL1321   </td><td>NSC759626</td><td>Compound:procarbazine; DILI Annotation:Less-DILI-Concern; Severity Grade:3; NA; LTKBID:LT00614        </td><td>671-16-9   </td><td>ATC:list(list(Start = 0, Length = 1, URL = \"https://www.whocc.no/atc_ddd_index/?code=L\"), list(Start = 0, Length = 3, URL = \"https://www.whocc.no/atc_ddd_index/?code=L01\"), list(Start = 0, Length = 4, URL = \"https://www.whocc.no/atc_ddd_index/?code=L01X\"), list(Start = 0, Length = 5, URL = \"https://www.whocc.no/atc_ddd_index/?code=L01XB\"), list(Start = 0, Length = 7, URL = \"https://www.whocc.no/atc_ddd_index/?code=L01XB01\"))                                                                                                                                                         </td></tr>\n",
       "\t<tr><td>   969516</td><td>CHEMBL140    </td><td>NSC687842</td><td>NA                                                                                                    </td><td>20062      </td><td>NA                                                                                                                                                                                                                                                                                                                                                                                                                                                                                                                                                                                                   </td></tr>\n",
       "\t<tr><td>⋮</td><td>⋮</td><td>⋮</td><td>⋮</td><td>⋮</td><td>⋮</td></tr>\n",
       "\t<tr><td>    65064</td><td>CHEMBL297453 </td><td>NA       </td><td>NA                                                                                                </td><td>989-51-5      </td><td>NA                                                                                                                                                                                                                                                                                                                                                                                                                                                                                                                                                                                                                                                                                                                                        </td></tr>\n",
       "\t<tr><td>  5281672</td><td>CHEMBL164    </td><td>NSC407290</td><td>NA                                                                                                </td><td>529-44-2      </td><td>NA                                                                                                                                                                                                                                                                                                                                                                                                                                                                                                                                                                                                                                                                                                                                        </td></tr>\n",
       "\t<tr><td>   126941</td><td>CHEMBL34259  </td><td>NSC740   </td><td>Compound:methotrexate; DILI Annotation:Most-DILI-Concern; Severity Grade:3; NA; LTKBID:LT00026    </td><td>20602         </td><td>ATC:L04AX03                                                                                                                                                                                                                                                                                                                                                                                                                                                                                                                                                                                                                                                                                                                               </td></tr>\n",
       "\t<tr><td>    53232</td><td>CHEMBL503    </td><td>NSC758662</td><td>Compound:lovastatin; DILI Annotation:Less-DILI-Concern; Severity Grade:3; NA; LTKBID:LT00576      </td><td>75330-75-5    </td><td>ATC:c(\"C - Cardiovascular system\", \"C10 - Lipid modifying agents\", \"C10A - Lipid modifying agents, plain\", \"C10AA - Hmg coa reductase inhibitors\", \"C10AA02 - Lovastatin\")                                                                                                                                                                                                                                                                                                                                                                                                                                                                                                                                                                </td></tr>\n",
       "\t<tr><td>    53232</td><td>CHEMBL503    </td><td>NSC758662</td><td>Compound:lovastatin; DILI Annotation:Less-DILI-Concern; Severity Grade:3; NA; LTKBID:LT00576      </td><td>75330-75-5    </td><td>ATC:list(list(Start = 0, Length = 1, URL = \"https://www.whocc.no/atc_ddd_index/?code=C\"), list(Start = 0, Length = 3, URL = \"https://www.whocc.no/atc_ddd_index/?code=C10\"), list(Start = c(0, 0), Length = c(4, 4), URL = c(\"https://www.whocc.no/atc_ddd_index/?code=C10A\", \"https://pubchem.ncbi.nlm.nih.gov/compound/C10A\"), Type = c(NA, \"PubChem Internal Link\"), Extra = c(NA, \"CID-41625\")), list(Start = 0, Length = 5, URL = \"https://www.whocc.no/atc_ddd_index/?code=C10AA\"), list(Start = 0, Length = 7, URL = \"https://www.whocc.no/atc_ddd_index/?code=C10AA02\"))                                                                                                                                                          </td></tr>\n",
       "\t<tr><td>   119607</td><td>CHEMBL865    </td><td>NSC759846</td><td>Compound:valdecoxib; DILI Annotation:Less-DILI-Concern; Severity Grade:3; NA; LTKBID:LT01971      </td><td>181695-72-7   </td><td>ATC:M01AH03                                                                                                                                                                                                                                                                                                                                                                                                                                                                                                                                                                                                                                                                                                                               </td></tr>\n",
       "\t<tr><td>     2907</td><td>CHEMBL88     </td><td>NSC756711</td><td>Compound:cyclophosphamide; DILI Annotation:Less-DILI-Concern; Severity Grade:5; NA; LTKBID:LT00013</td><td>16189         </td><td>ATC:c(\"L - Antineoplastic and immunomodulating agents\", \"L01 - Antineoplastic agents\", \"L01A - Alkylating agents\", \"L01AA - Nitrogen mustard analogues\", \"L01AA01 - Cyclophosphamide\")                                                                                                                                                                                                                                                                                                                                                                                                                                                                                                                                                    </td></tr>\n",
       "\t<tr><td>     2907</td><td>CHEMBL88     </td><td>NSC756711</td><td>Compound:cyclophosphamide; DILI Annotation:Less-DILI-Concern; Severity Grade:5; NA; LTKBID:LT00013</td><td>16189         </td><td>ATC:list(list(Start = 0, Length = 1, URL = \"https://www.whocc.no/atc_ddd_index/?code=L\"), list(Start = 0, Length = 3, URL = \"https://www.whocc.no/atc_ddd_index/?code=L01\"), list(Start = 0, Length = 4, URL = \"https://www.whocc.no/atc_ddd_index/?code=L01A\"), list(Start = 0, Length = 5, URL = \"https://www.whocc.no/atc_ddd_index/?code=L01AA\"), list(Start = c(0, 10), Length = c(7, 16), URL = c(\"https://www.whocc.no/atc_ddd_index/?code=L01AA01\", \"https://pubchem.ncbi.nlm.nih.gov/compound/Cyclophosphamide\"), \n",
       "    Type = c(NA, \"PubChem Internal Link\"), Extra = c(NA, \"CID-2907\")))                                                                                                                                       </td></tr>\n",
       "\t<tr><td>135398738</td><td>CHEMBL476    </td><td>NSC759610</td><td>NA                                                                                                </td><td>20085         </td><td>ATC:c(\"L - Antineoplastic and immunomodulating agents\", \"L01 - Antineoplastic agents\", \"L01A - Alkylating agents\", \"L01AX - Other alkylating agents\", \"L01AX04 - Dacarbazine\")                                                                                                                                                                                                                                                                                                                                                                                                                                                                                                                                                            </td></tr>\n",
       "\t<tr><td>135398738</td><td>CHEMBL476    </td><td>NSC759610</td><td>NA                                                                                                </td><td>20085         </td><td>ATC:list(list(Start = 0, Length = 1, URL = \"https://www.whocc.no/atc_ddd_index/?code=L\"), list(Start = 0, Length = 3, URL = \"https://www.whocc.no/atc_ddd_index/?code=L01\"), list(Start = 0, Length = 4, URL = \"https://www.whocc.no/atc_ddd_index/?code=L01A\"), list(Start = 0, Length = 5, URL = \"https://www.whocc.no/atc_ddd_index/?code=L01AX\"), list(Start = 0, Length = 7, URL = \"https://www.whocc.no/atc_ddd_index/?code=L01AX04\"))                                                                                                                                                                                                                                                                                              </td></tr>\n",
       "\t<tr><td>     4477</td><td>CHEMBL1448   </td><td>NSC758440</td><td>NA                                                                                                </td><td>50-65-7       </td><td>ATC:P02DA01                                                                                                                                                                                                                                                                                                                                                                                                                                                                                                                                                                                                                                                                                                                               </td></tr>\n",
       "\t<tr><td>     4917</td><td>CHEMBL728    </td><td>NA       </td><td>Compound:prochlorperazine; DILI Annotation:Less-DILI-Concern; Severity Grade:2; NA; LTKBID:LT00437</td><td>58-38-8       </td><td>ATC:c(\"N - Nervous system\", \"N05 - Psycholeptics\", \"N05A - Antipsychotics\", \"N05AB - Phenothiazines with piperazine structure\", \"N05AB04 - Prochlorperazine\")                                                                                                                                                                                                                                                                                                                                                                                                                                                                                                                                                                             </td></tr>\n",
       "\t<tr><td>     4917</td><td>CHEMBL728    </td><td>NA       </td><td>Compound:prochlorperazine; DILI Annotation:Less-DILI-Concern; Severity Grade:2; NA; LTKBID:LT00437</td><td>58-38-8       </td><td>ATC:list(list(Start = 0, Length = 1, URL = \"https://www.whocc.no/atc_ddd_index/?code=N\"), list(Start = 0, Length = 3, URL = \"https://www.whocc.no/atc_ddd_index/?code=N05\"), list(Start = 0, Length = 4, URL = \"https://www.whocc.no/atc_ddd_index/?code=N05A\"), list(Start = c(0, 28), Length = c(5, 10), URL = c(\"https://www.whocc.no/atc_ddd_index/?code=N05AB\", \"https://pubchem.ncbi.nlm.nih.gov/compound/piperazine\"), Type = c(NA, \"PubChem Internal Link\"), Extra = c(NA, \"CID-4837\")), list(Start = c(0, 10), Length = c(7, \n",
       "16), URL = c(\"https://www.whocc.no/atc_ddd_index/?code=N05AB04\", \"https://pubchem.ncbi.nlm.nih.gov/compound/Prochlorperazine\"), Type = c(NA, \"PubChem Internal Link\"), Extra = c(NA, \"CID-4917\")))</td></tr>\n",
       "\t<tr><td>     3690</td><td>CHEMBL1024   </td><td>NSC759154</td><td>Compound:ifosfamide; DILI Annotation:Less-DILI-Concern; Severity Grade:4; NA; LTKBID:LT00562      </td><td>3778-73-2     </td><td>ATC:L01AA06                                                                                                                                                                                                                                                                                                                                                                                                                                                                                                                                                                                                                                                                                                                               </td></tr>\n",
       "\t<tr><td>    31703</td><td>CHEMBL53463  </td><td>NA       </td><td>Compound:doxorubicin; DILI Annotation:Less-DILI-Concern; Severity Grade:3; NA; LTKBID:LT00335     </td><td>23214-92-8    </td><td>ATC:L01DB01                                                                                                                                                                                                                                                                                                                                                                                                                                                                                                                                                                                                                                                                                                                               </td></tr>\n",
       "\t<tr><td>   439501</td><td>CHEMBL222863 </td><td>NA       </td><td>NA                                                                                                </td><td>5098          </td><td>ATC:c(\"C - Cardiovascular system\", \"C01 - Cardiac therapy\", \"C01A - Cardiac glycosides\", \"C01AC - Strophanthus glycosides\", \"C01AC01 - G-strophanthin\")                                                                                                                                                                                                                                                                                                                                                                                                                                                                                                                                                                                   </td></tr>\n",
       "\t<tr><td>   439501</td><td>CHEMBL222863 </td><td>NA       </td><td>NA                                                                                                </td><td>5098          </td><td>ATC:list(list(Start = 0, Length = 1, URL = \"https://www.whocc.no/atc_ddd_index/?code=C\"), list(Start = 0, Length = 3, URL = \"https://www.whocc.no/atc_ddd_index/?code=C01\"), list(Start = 0, Length = 4, URL = \"https://www.whocc.no/atc_ddd_index/?code=C01A\"), list(Start = 0, Length = 5, URL = \"https://www.whocc.no/atc_ddd_index/?code=C01AC\"), list(Start = 0, Length = 7, URL = \"https://www.whocc.no/atc_ddd_index/?code=C01AC01\"))                                                                                                                                                                                                                                                                                              </td></tr>\n",
       "\t<tr><td>  1242560</td><td>NA           </td><td>NA       </td><td>NA                                                                                                </td><td>N/A           </td><td>NA                                                                                                                                                                                                                                                                                                                                                                                                                                                                                                                                                                                                                                                                                                                                        </td></tr>\n",
       "\t<tr><td>   637858</td><td>CHEMBL465843 </td><td>NA       </td><td>NA                                                                                                </td><td>20069-09-4    </td><td>NA                                                                                                                                                                                                                                                                                                                                                                                                                                                                                                                                                                                                                                                                                                                                        </td></tr>\n",
       "\t<tr><td>   613753</td><td>CHEMBL2260448</td><td>NA       </td><td>NA                                                                                                </td><td>N/A           </td><td>NA                                                                                                                                                                                                                                                                                                                                                                                                                                                                                                                                                                                                                                                                                                                                        </td></tr>\n",
       "\t<tr><td>   409805</td><td>CHEMBL257119 </td><td>NA       </td><td>NA                                                                                                </td><td>0733767345    </td><td>NA                                                                                                                                                                                                                                                                                                                                                                                                                                                                                                                                                                                                                                                                                                                                        </td></tr>\n",
       "\t<tr><td>     8515</td><td>CHEMBL7064   </td><td>NSC75890 </td><td>NA                                                                                                </td><td>129-56-6      </td><td>NA                                                                                                                                                                                                                                                                                                                                                                                                                                                                                                                                                                                                                                                                                                                                        </td></tr>\n",
       "\t<tr><td>     8515</td><td>CHEMBL1725279</td><td>NSC75890 </td><td>NA                                                                                                </td><td>129-56-6      </td><td>NA                                                                                                                                                                                                                                                                                                                                                                                                                                                                                                                                                                                                                                                                                                                                        </td></tr>\n",
       "\t<tr><td>  5702613</td><td>CHEMBL224877 </td><td>NA       </td><td>NA                                                                                                </td><td>0124753975    </td><td>NA                                                                                                                                                                                                                                                                                                                                                                                                                                                                                                                                                                                                                                                                                                                                        </td></tr>\n",
       "\t<tr><td>    60700</td><td>CHEMBL84     </td><td>NSC641007</td><td>Compound:topotecan; DILI Annotation:No-DILI-Concern; Label Section:No match; NA; LTKBID:LT01824   </td><td>123948-87-8   </td><td>ATC:L01CE01                                                                                                                                                                                                                                                                                                                                                                                                                                                                                                                                                                                                                                                                                                                               </td></tr>\n",
       "\t<tr><td>  6610355</td><td>CHEMBL86066  </td><td>NA       </td><td>NA                                                                                                </td><td>DTXSID80425015</td><td>NA                                                                                                                                                                                                                                                                                                                                                                                                                                                                                                                                                                                                                                                                                                                                        </td></tr>\n",
       "\t<tr><td>  2949965</td><td>CHEMBL1498173</td><td>NA       </td><td>NA                                                                                                </td><td>N/A           </td><td>NA                                                                                                                                                                                                                                                                                                                                                                                                                                                                                                                                                                                                                                                                                                                                        </td></tr>\n",
       "\t<tr><td>    36462</td><td>CHEMBL44657  </td><td>NA       </td><td>Compound:etoposide; DILI Annotation:Less-DILI-Concern; Severity Grade:3; NA; LTKBID:LT00094       </td><td>33419-42-0    </td><td>ATC:c(\"L - Antineoplastic and immunomodulating agents\", \"L01 - Antineoplastic agents\", \"L01C - Plant alkaloids and other natural products\", \"L01CB - Podophyllotoxin derivatives\", \"L01CB01 - Etoposide\")                                                                                                                                                                                                                                                                                                                                                                                                                                                                                                                                 </td></tr>\n",
       "\t<tr><td>    36462</td><td>CHEMBL44657  </td><td>NA       </td><td>Compound:etoposide; DILI Annotation:Less-DILI-Concern; Severity Grade:3; NA; LTKBID:LT00094       </td><td>33419-42-0    </td><td>ATC:list(list(Start = 0, Length = 1, URL = \"https://www.whocc.no/atc_ddd_index/?code=L\"), list(Start = 0, Length = 3, URL = \"https://www.whocc.no/atc_ddd_index/?code=L01\"), list(Start = 0, Length = 4, URL = \"https://www.whocc.no/atc_ddd_index/?code=L01C\"), list(Start = c(0, 8), Length = c(5, 15), URL = c(\"https://www.whocc.no/atc_ddd_index/?code=L01CB\", \"https://pubchem.ncbi.nlm.nih.gov/compound/Podophyllotoxin\"), Type = c(NA, \"PubChem Internal Link\"), Extra = c(NA, \"CID-11384429\")), list(Start = 0, \n",
       "    Length = 7, URL = \"https://www.whocc.no/atc_ddd_index/?code=L01CB01\"))                                                                                                                                     </td></tr>\n",
       "\t<tr><td>   322968</td><td>CHEMBL186872 </td><td>NSC281668</td><td>NA                                                                                                </td><td>0005608242    </td><td>NA                                                                                                                                                                                                                                                                                                                                                                                                                                                                                                                                                                                                                                                                                                                                        </td></tr>\n",
       "</tbody>\n",
       "</table>\n"
      ],
      "text/latex": [
       "A data.table: 61 × 6\n",
       "\\begin{tabular}{llllll}\n",
       " cid & ChEMBL ID & NSC Number & DILI & CAS & ATC Code\\\\\n",
       " <int> & <chr> & <chr> & <chr> & <chr> & <chr>\\\\\n",
       "\\hline\n",
       "\t   6623618 & CHEMBL492468  & NA        & NA                                                                                                     & N/A         & NA                                                                                                                                                                                                                                                                                                                                                                                                                                                                                                                                                                                                   \\\\\n",
       "\t   7326481 & CHEMBL1300397 & NA        & NA                                                                                                     & N/A         & NA                                                                                                                                                                                                                                                                                                                                                                                                                                                                                                                                                                                                   \\\\\n",
       "\t   1641662 & NA            & NA        & NA                                                                                                     & N/A         & NA                                                                                                                                                                                                                                                                                                                                                                                                                                                                                                                                                                                                   \\\\\n",
       "\t   2842253 & CHEMBL1526042 & NA        & NA                                                                                                     & N/A         & NA                                                                                                                                                                                                                                                                                                                                                                                                                                                                                                                                                                                                   \\\\\n",
       "\t   2729026 & CHEMBL1402326 & NA        & NA                                                                                                     & N/A         & NA                                                                                                                                                                                                                                                                                                                                                                                                                                                                                                                                                                                                   \\\\\n",
       "\t    613000 & CHEMBL4303295 & NA        & NA                                                                                                     & 32703-82-5  & NA                                                                                                                                                                                                                                                                                                                                                                                                                                                                                                                                                                                                   \\\\\n",
       "\t    444795 & CHEMBL38      & NSC759631 & Compound:tretinoin; DILI Annotation:Ambiguous DILI-concern; Severity Grade:3; NA; LTKBID:LT00338       & 302-79-4    & ATC:D10AD51                                                                                                                                                                                                                                                                                                                                                                                                                                                                                                                                                                                          \\\\\n",
       "\t     64971 & CHEMBL269277  & NSC677578 & NA                                                                                                     & 472-15-1    & NA                                                                                                                                                                                                                                                                                                                                                                                                                                                                                                                                                                                                   \\\\\n",
       "\t      4788 & CHEMBL45068   & NSC407292 & NA                                                                                                     & 60-82-2     & NA                                                                                                                                                                                                                                                                                                                                                                                                                                                                                                                                                                                                   \\\\\n",
       "\t      5426 & CHEMBL468     & NSC758479 & Compound:thalidomide; DILI Annotation:Less-DILI-Concern; Severity Grade:4; NA; LTKBID:LT00450          & 21096       & ATC:L04AX02                                                                                                                                                                                                                                                                                                                                                                                                                                                                                                                                                                                          \\\\\n",
       "\t      3503 & CHEMBL51483   & NSC728875 & NA                                                                                                     & 20300-26-9  & NA                                                                                                                                                                                                                                                                                                                                                                                                                                                                                                                                                                                                   \\\\\n",
       "\t      2708 & CHEMBL515     & NSC756674 & Compound:chlorambucil; DILI Annotation:Less-DILI-Concern; Severity Grade:3; NA; LTKBID:LT00286         & 16180       & ATC:L01AA02                                                                                                                                                                                                                                                                                                                                                                                                                                                                                                                                                                                          \\\\\n",
       "\t      3385 & CHEMBL185     & NSC757036 & Compound:fluorouracil; DILI Annotation:Less-DILI-Concern; Label Section:No match; NA; LTKBID:LT01029   & 5005        & ATC:L01BC02                                                                                                                                                                                                                                                                                                                                                                                                                                                                                                                                                                                          \\\\\n",
       "\t    638278 & CHEMBL129795  & NA        & NA                                                                                                     & 961-29-5    & NA                                                                                                                                                                                                                                                                                                                                                                                                                                                                                                                                                                                                   \\\\\n",
       "\t      2756 & CHEMBL30      & NSC757428 & Compound:cimetidine; DILI Annotation:Less-DILI-Concern; Severity Grade:2; NA; LTKBID:LT01218           & 20034       & ATC:c(\"A - Alimentary tract and metabolism\", \"A02 - Drugs for acid related disorders\", \"A02B - Drugs for peptic ulcer and gastro-oesophageal reflux disease (gord)\", \"A02BA - H2-receptor antagonists\", \"A02BA01 - Cimetidine\")                                                                                                                                                                                                                                                                                                                                                                      \\\\\n",
       "\t      2756 & CHEMBL30      & NSC757428 & Compound:cimetidine; DILI Annotation:Less-DILI-Concern; Severity Grade:2; NA; LTKBID:LT01218           & 20034       & ATC:list(list(Start = 0, Length = 1, URL = \"https://www.whocc.no/atc\\_ddd\\_index/?code=A\"), list(Start = 0, Length = 3, URL = \"https://www.whocc.no/atc\\_ddd\\_index/?code=A02\"), list(Start = 0, Length = 4, URL = \"https://www.whocc.no/atc\\_ddd\\_index/?code=A02B\"), list(Start = c(0, 9), Length = c(5, 1), URL = c(\"https://www.whocc.no/atc\\_ddd\\_index/?code=A02BA\", NA), Type = c(NA, \"Subscript\")), list(Start = 0, Length = 7, URL = \"https://www.whocc.no/atc\\_ddd\\_index/?code=A02BA01\"))                                                                                                           \\\\\n",
       "\t      9444 & CHEMBL1489    & NSC758186 & Compound:azacitidine; DILI Annotation:Ambiguous DILI-concern; Severity Grade:8; NA; LTKBID:LT01028     & 19834       & ATC:L01BC07                                                                                                                                                                                                                                                                                                                                                                                                                                                                                                                                                                                          \\\\\n",
       "\t      5566 & CHEMBL422     & NA        & Compound:trifluoperazine; DILI Annotation:Ambiguous DILI-concern; Severity Grade:2; NA; LTKBID:LT00457 & 117-89-5    & ATC:c(\"N - Nervous system\", \"N05 - Psycholeptics\", \"N05A - Antipsychotics\", \"N05AB - Phenothiazines with piperazine structure\", \"N05AB06 - Trifluoperazine\")                                                                                                                                                                                                                                                                                                                                                                                                                                         \\\\\n",
       "\t      5566 & CHEMBL422     & NA        & Compound:trifluoperazine; DILI Annotation:Ambiguous DILI-concern; Severity Grade:2; NA; LTKBID:LT00457 & 117-89-5    & ATC:list(list(Start = 0, Length = 1, URL = \"https://www.whocc.no/atc\\_ddd\\_index/?code=N\"), list(Start = 0, Length = 3, URL = \"https://www.whocc.no/atc\\_ddd\\_index/?code=N05\"), list(Start = 0, Length = 4, URL = \"https://www.whocc.no/atc\\_ddd\\_index/?code=N05A\"), list(Start = c(0, 28), Length = c(5, 10), URL = c(\"https://www.whocc.no/atc\\_ddd\\_index/?code=N05AB\", \"https://pubchem.ncbi.nlm.nih.gov/compound/piperazine\"), Type = c(NA, \"PubChem Internal Link\"), Extra = c(NA, \"CID-4837\")), list(Start = 0, Length = 7, \n",
       "    URL = \"https://www.whocc.no/atc\\_ddd\\_index/?code=N05AB06\"))        \\\\\n",
       "\t     36314 & CHEMBL428647  & NSC745099 & Compound:paclitaxel; DILI Annotation:Less-DILI-Concern; Severity Grade:4; NA; LTKBID:LT00430           & 21061       & ATC:L01CD01                                                                                                                                                                                                                                                                                                                                                                                                                                                                                                                                                                                          \\\\\n",
       "\t   2733526 & CHEMBL83      & NSC727681 & Compound:tamoxifen; DILI Annotation:Most-DILI-Concern; Severity Grade:8; NA; LTKBID:LT00152            & 10540-29-1  & ATC:L02BA01                                                                                                                                                                                                                                                                                                                                                                                                                                                                                                                                                                                          \\\\\n",
       "\t    426756 & NA            & NSC758182 & Compound:carboplatin; DILI Annotation:Less-DILI-Concern; Severity Grade:3; NA; LTKBID:LT00061          & NSC 758182  & ATC:L01XA02                                                                                                                                                                                                                                                                                                                                                                                                                                                                                                                                                                                          \\\\\n",
       "\t    452548 & CHEMBL452231  & NA        & Compound:teniposide; DILI Annotation:Less-DILI-Concern; Severity Grade:3; NA; LTKBID:LT01786           & 29767-20-2  & ATC:c(\"L - Antineoplastic and immunomodulating agents\", \"L01 - Antineoplastic agents\", \"L01C - Plant alkaloids and other natural products\", \"L01CB - Podophyllotoxin derivatives\", \"L01CB02 - Teniposide\")                                                                                                                                                                                                                                                                                                                                                                                           \\\\\n",
       "\t    452548 & CHEMBL452231  & NA        & Compound:teniposide; DILI Annotation:Less-DILI-Concern; Severity Grade:3; NA; LTKBID:LT01786           & 29767-20-2  & ATC:list(list(Start = 0, Length = 1, URL = \"https://www.whocc.no/atc\\_ddd\\_index/?code=L\"), list(Start = 0, Length = 3, URL = \"https://www.whocc.no/atc\\_ddd\\_index/?code=L01\"), list(Start = 0, Length = 4, URL = \"https://www.whocc.no/atc\\_ddd\\_index/?code=L01C\"), list(Start = c(0, 8), Length = c(5, 15), URL = c(\"https://www.whocc.no/atc\\_ddd\\_index/?code=L01CB\", \"https://pubchem.ncbi.nlm.nih.gov/compound/Podophyllotoxin\"), Type = c(NA, \"PubChem Internal Link\"), Extra = c(NA, \"CID-11384429\")), list(Start = 0, \n",
       "    Length = 7, URL = \"https://www.whocc.no/atc\\_ddd\\_index/?code=L01CB02\"))\\\\\n",
       "\t 135398744 & CHEMBL192     & NA        & Compound:sildenafil; DILI Annotation:Less-DILI-Concern; Severity Grade:3; NA; LTKBID:LT01033           & 139755-83-2 & ATC:G04BE03                                                                                                                                                                                                                                                                                                                                                                                                                                                                                                                                                                                          \\\\\n",
       "\t     54454 & CHEMBL1064    & NSC758706 & Compound:simvastatin; DILI Annotation:Less-DILI-Concern; Severity Grade:3; NA; LTKBID:LT00142          & 79902-63-9  & ATC:C10AA01                                                                                                                                                                                                                                                                                                                                                                                                                                                                                                                                                                                          \\\\\n",
       "\t     26596 & CHEMBL528271  & NSC256420 & NA                                                                                                     & 20833       & NA                                                                                                                                                                                                                                                                                                                                                                                                                                                                                                                                                                                                   \\\\\n",
       "\t      4915 & CHEMBL1321    & NSC759626 & Compound:procarbazine; DILI Annotation:Less-DILI-Concern; Severity Grade:3; NA; LTKBID:LT00614         & 671-16-9    & ATC:c(\"L - Antineoplastic and immunomodulating agents\", \"L01 - Antineoplastic agents\", \"L01X - Other antineoplastic agents\", \"L01XB - Methylhydrazines\", \"L01XB01 - Procarbazine\")                                                                                                                                                                                                                                                                                                                                                                                                                   \\\\\n",
       "\t      4915 & CHEMBL1321    & NSC759626 & Compound:procarbazine; DILI Annotation:Less-DILI-Concern; Severity Grade:3; NA; LTKBID:LT00614         & 671-16-9    & ATC:list(list(Start = 0, Length = 1, URL = \"https://www.whocc.no/atc\\_ddd\\_index/?code=L\"), list(Start = 0, Length = 3, URL = \"https://www.whocc.no/atc\\_ddd\\_index/?code=L01\"), list(Start = 0, Length = 4, URL = \"https://www.whocc.no/atc\\_ddd\\_index/?code=L01X\"), list(Start = 0, Length = 5, URL = \"https://www.whocc.no/atc\\_ddd\\_index/?code=L01XB\"), list(Start = 0, Length = 7, URL = \"https://www.whocc.no/atc\\_ddd\\_index/?code=L01XB01\"))                                                                                                                                                         \\\\\n",
       "\t    969516 & CHEMBL140     & NSC687842 & NA                                                                                                     & 20062       & NA                                                                                                                                                                                                                                                                                                                                                                                                                                                                                                                                                                                                   \\\\\n",
       "\t ⋮ & ⋮ & ⋮ & ⋮ & ⋮ & ⋮\\\\\n",
       "\t     65064 & CHEMBL297453  & NA        & NA                                                                                                 & 989-51-5       & NA                                                                                                                                                                                                                                                                                                                                                                                                                                                                                                                                                                                                                                                                                                                                        \\\\\n",
       "\t   5281672 & CHEMBL164     & NSC407290 & NA                                                                                                 & 529-44-2       & NA                                                                                                                                                                                                                                                                                                                                                                                                                                                                                                                                                                                                                                                                                                                                        \\\\\n",
       "\t    126941 & CHEMBL34259   & NSC740    & Compound:methotrexate; DILI Annotation:Most-DILI-Concern; Severity Grade:3; NA; LTKBID:LT00026     & 20602          & ATC:L04AX03                                                                                                                                                                                                                                                                                                                                                                                                                                                                                                                                                                                                                                                                                                                               \\\\\n",
       "\t     53232 & CHEMBL503     & NSC758662 & Compound:lovastatin; DILI Annotation:Less-DILI-Concern; Severity Grade:3; NA; LTKBID:LT00576       & 75330-75-5     & ATC:c(\"C - Cardiovascular system\", \"C10 - Lipid modifying agents\", \"C10A - Lipid modifying agents, plain\", \"C10AA - Hmg coa reductase inhibitors\", \"C10AA02 - Lovastatin\")                                                                                                                                                                                                                                                                                                                                                                                                                                                                                                                                                                \\\\\n",
       "\t     53232 & CHEMBL503     & NSC758662 & Compound:lovastatin; DILI Annotation:Less-DILI-Concern; Severity Grade:3; NA; LTKBID:LT00576       & 75330-75-5     & ATC:list(list(Start = 0, Length = 1, URL = \"https://www.whocc.no/atc\\_ddd\\_index/?code=C\"), list(Start = 0, Length = 3, URL = \"https://www.whocc.no/atc\\_ddd\\_index/?code=C10\"), list(Start = c(0, 0), Length = c(4, 4), URL = c(\"https://www.whocc.no/atc\\_ddd\\_index/?code=C10A\", \"https://pubchem.ncbi.nlm.nih.gov/compound/C10A\"), Type = c(NA, \"PubChem Internal Link\"), Extra = c(NA, \"CID-41625\")), list(Start = 0, Length = 5, URL = \"https://www.whocc.no/atc\\_ddd\\_index/?code=C10AA\"), list(Start = 0, Length = 7, URL = \"https://www.whocc.no/atc\\_ddd\\_index/?code=C10AA02\"))                                                                                                                                                          \\\\\n",
       "\t    119607 & CHEMBL865     & NSC759846 & Compound:valdecoxib; DILI Annotation:Less-DILI-Concern; Severity Grade:3; NA; LTKBID:LT01971       & 181695-72-7    & ATC:M01AH03                                                                                                                                                                                                                                                                                                                                                                                                                                                                                                                                                                                                                                                                                                                               \\\\\n",
       "\t      2907 & CHEMBL88      & NSC756711 & Compound:cyclophosphamide; DILI Annotation:Less-DILI-Concern; Severity Grade:5; NA; LTKBID:LT00013 & 16189          & ATC:c(\"L - Antineoplastic and immunomodulating agents\", \"L01 - Antineoplastic agents\", \"L01A - Alkylating agents\", \"L01AA - Nitrogen mustard analogues\", \"L01AA01 - Cyclophosphamide\")                                                                                                                                                                                                                                                                                                                                                                                                                                                                                                                                                    \\\\\n",
       "\t      2907 & CHEMBL88      & NSC756711 & Compound:cyclophosphamide; DILI Annotation:Less-DILI-Concern; Severity Grade:5; NA; LTKBID:LT00013 & 16189          & ATC:list(list(Start = 0, Length = 1, URL = \"https://www.whocc.no/atc\\_ddd\\_index/?code=L\"), list(Start = 0, Length = 3, URL = \"https://www.whocc.no/atc\\_ddd\\_index/?code=L01\"), list(Start = 0, Length = 4, URL = \"https://www.whocc.no/atc\\_ddd\\_index/?code=L01A\"), list(Start = 0, Length = 5, URL = \"https://www.whocc.no/atc\\_ddd\\_index/?code=L01AA\"), list(Start = c(0, 10), Length = c(7, 16), URL = c(\"https://www.whocc.no/atc\\_ddd\\_index/?code=L01AA01\", \"https://pubchem.ncbi.nlm.nih.gov/compound/Cyclophosphamide\"), \n",
       "    Type = c(NA, \"PubChem Internal Link\"), Extra = c(NA, \"CID-2907\")))                                                                                                                                       \\\\\n",
       "\t 135398738 & CHEMBL476     & NSC759610 & NA                                                                                                 & 20085          & ATC:c(\"L - Antineoplastic and immunomodulating agents\", \"L01 - Antineoplastic agents\", \"L01A - Alkylating agents\", \"L01AX - Other alkylating agents\", \"L01AX04 - Dacarbazine\")                                                                                                                                                                                                                                                                                                                                                                                                                                                                                                                                                            \\\\\n",
       "\t 135398738 & CHEMBL476     & NSC759610 & NA                                                                                                 & 20085          & ATC:list(list(Start = 0, Length = 1, URL = \"https://www.whocc.no/atc\\_ddd\\_index/?code=L\"), list(Start = 0, Length = 3, URL = \"https://www.whocc.no/atc\\_ddd\\_index/?code=L01\"), list(Start = 0, Length = 4, URL = \"https://www.whocc.no/atc\\_ddd\\_index/?code=L01A\"), list(Start = 0, Length = 5, URL = \"https://www.whocc.no/atc\\_ddd\\_index/?code=L01AX\"), list(Start = 0, Length = 7, URL = \"https://www.whocc.no/atc\\_ddd\\_index/?code=L01AX04\"))                                                                                                                                                                                                                                                                                              \\\\\n",
       "\t      4477 & CHEMBL1448    & NSC758440 & NA                                                                                                 & 50-65-7        & ATC:P02DA01                                                                                                                                                                                                                                                                                                                                                                                                                                                                                                                                                                                                                                                                                                                               \\\\\n",
       "\t      4917 & CHEMBL728     & NA        & Compound:prochlorperazine; DILI Annotation:Less-DILI-Concern; Severity Grade:2; NA; LTKBID:LT00437 & 58-38-8        & ATC:c(\"N - Nervous system\", \"N05 - Psycholeptics\", \"N05A - Antipsychotics\", \"N05AB - Phenothiazines with piperazine structure\", \"N05AB04 - Prochlorperazine\")                                                                                                                                                                                                                                                                                                                                                                                                                                                                                                                                                                             \\\\\n",
       "\t      4917 & CHEMBL728     & NA        & Compound:prochlorperazine; DILI Annotation:Less-DILI-Concern; Severity Grade:2; NA; LTKBID:LT00437 & 58-38-8        & ATC:list(list(Start = 0, Length = 1, URL = \"https://www.whocc.no/atc\\_ddd\\_index/?code=N\"), list(Start = 0, Length = 3, URL = \"https://www.whocc.no/atc\\_ddd\\_index/?code=N05\"), list(Start = 0, Length = 4, URL = \"https://www.whocc.no/atc\\_ddd\\_index/?code=N05A\"), list(Start = c(0, 28), Length = c(5, 10), URL = c(\"https://www.whocc.no/atc\\_ddd\\_index/?code=N05AB\", \"https://pubchem.ncbi.nlm.nih.gov/compound/piperazine\"), Type = c(NA, \"PubChem Internal Link\"), Extra = c(NA, \"CID-4837\")), list(Start = c(0, 10), Length = c(7, \n",
       "16), URL = c(\"https://www.whocc.no/atc\\_ddd\\_index/?code=N05AB04\", \"https://pubchem.ncbi.nlm.nih.gov/compound/Prochlorperazine\"), Type = c(NA, \"PubChem Internal Link\"), Extra = c(NA, \"CID-4917\")))\\\\\n",
       "\t      3690 & CHEMBL1024    & NSC759154 & Compound:ifosfamide; DILI Annotation:Less-DILI-Concern; Severity Grade:4; NA; LTKBID:LT00562       & 3778-73-2      & ATC:L01AA06                                                                                                                                                                                                                                                                                                                                                                                                                                                                                                                                                                                                                                                                                                                               \\\\\n",
       "\t     31703 & CHEMBL53463   & NA        & Compound:doxorubicin; DILI Annotation:Less-DILI-Concern; Severity Grade:3; NA; LTKBID:LT00335      & 23214-92-8     & ATC:L01DB01                                                                                                                                                                                                                                                                                                                                                                                                                                                                                                                                                                                                                                                                                                                               \\\\\n",
       "\t    439501 & CHEMBL222863  & NA        & NA                                                                                                 & 5098           & ATC:c(\"C - Cardiovascular system\", \"C01 - Cardiac therapy\", \"C01A - Cardiac glycosides\", \"C01AC - Strophanthus glycosides\", \"C01AC01 - G-strophanthin\")                                                                                                                                                                                                                                                                                                                                                                                                                                                                                                                                                                                   \\\\\n",
       "\t    439501 & CHEMBL222863  & NA        & NA                                                                                                 & 5098           & ATC:list(list(Start = 0, Length = 1, URL = \"https://www.whocc.no/atc\\_ddd\\_index/?code=C\"), list(Start = 0, Length = 3, URL = \"https://www.whocc.no/atc\\_ddd\\_index/?code=C01\"), list(Start = 0, Length = 4, URL = \"https://www.whocc.no/atc\\_ddd\\_index/?code=C01A\"), list(Start = 0, Length = 5, URL = \"https://www.whocc.no/atc\\_ddd\\_index/?code=C01AC\"), list(Start = 0, Length = 7, URL = \"https://www.whocc.no/atc\\_ddd\\_index/?code=C01AC01\"))                                                                                                                                                                                                                                                                                              \\\\\n",
       "\t   1242560 & NA            & NA        & NA                                                                                                 & N/A            & NA                                                                                                                                                                                                                                                                                                                                                                                                                                                                                                                                                                                                                                                                                                                                        \\\\\n",
       "\t    637858 & CHEMBL465843  & NA        & NA                                                                                                 & 20069-09-4     & NA                                                                                                                                                                                                                                                                                                                                                                                                                                                                                                                                                                                                                                                                                                                                        \\\\\n",
       "\t    613753 & CHEMBL2260448 & NA        & NA                                                                                                 & N/A            & NA                                                                                                                                                                                                                                                                                                                                                                                                                                                                                                                                                                                                                                                                                                                                        \\\\\n",
       "\t    409805 & CHEMBL257119  & NA        & NA                                                                                                 & 0733767345     & NA                                                                                                                                                                                                                                                                                                                                                                                                                                                                                                                                                                                                                                                                                                                                        \\\\\n",
       "\t      8515 & CHEMBL7064    & NSC75890  & NA                                                                                                 & 129-56-6       & NA                                                                                                                                                                                                                                                                                                                                                                                                                                                                                                                                                                                                                                                                                                                                        \\\\\n",
       "\t      8515 & CHEMBL1725279 & NSC75890  & NA                                                                                                 & 129-56-6       & NA                                                                                                                                                                                                                                                                                                                                                                                                                                                                                                                                                                                                                                                                                                                                        \\\\\n",
       "\t   5702613 & CHEMBL224877  & NA        & NA                                                                                                 & 0124753975     & NA                                                                                                                                                                                                                                                                                                                                                                                                                                                                                                                                                                                                                                                                                                                                        \\\\\n",
       "\t     60700 & CHEMBL84      & NSC641007 & Compound:topotecan; DILI Annotation:No-DILI-Concern; Label Section:No match; NA; LTKBID:LT01824    & 123948-87-8    & ATC:L01CE01                                                                                                                                                                                                                                                                                                                                                                                                                                                                                                                                                                                                                                                                                                                               \\\\\n",
       "\t   6610355 & CHEMBL86066   & NA        & NA                                                                                                 & DTXSID80425015 & NA                                                                                                                                                                                                                                                                                                                                                                                                                                                                                                                                                                                                                                                                                                                                        \\\\\n",
       "\t   2949965 & CHEMBL1498173 & NA        & NA                                                                                                 & N/A            & NA                                                                                                                                                                                                                                                                                                                                                                                                                                                                                                                                                                                                                                                                                                                                        \\\\\n",
       "\t     36462 & CHEMBL44657   & NA        & Compound:etoposide; DILI Annotation:Less-DILI-Concern; Severity Grade:3; NA; LTKBID:LT00094        & 33419-42-0     & ATC:c(\"L - Antineoplastic and immunomodulating agents\", \"L01 - Antineoplastic agents\", \"L01C - Plant alkaloids and other natural products\", \"L01CB - Podophyllotoxin derivatives\", \"L01CB01 - Etoposide\")                                                                                                                                                                                                                                                                                                                                                                                                                                                                                                                                 \\\\\n",
       "\t     36462 & CHEMBL44657   & NA        & Compound:etoposide; DILI Annotation:Less-DILI-Concern; Severity Grade:3; NA; LTKBID:LT00094        & 33419-42-0     & ATC:list(list(Start = 0, Length = 1, URL = \"https://www.whocc.no/atc\\_ddd\\_index/?code=L\"), list(Start = 0, Length = 3, URL = \"https://www.whocc.no/atc\\_ddd\\_index/?code=L01\"), list(Start = 0, Length = 4, URL = \"https://www.whocc.no/atc\\_ddd\\_index/?code=L01C\"), list(Start = c(0, 8), Length = c(5, 15), URL = c(\"https://www.whocc.no/atc\\_ddd\\_index/?code=L01CB\", \"https://pubchem.ncbi.nlm.nih.gov/compound/Podophyllotoxin\"), Type = c(NA, \"PubChem Internal Link\"), Extra = c(NA, \"CID-11384429\")), list(Start = 0, \n",
       "    Length = 7, URL = \"https://www.whocc.no/atc\\_ddd\\_index/?code=L01CB01\"))                                                                                                                                     \\\\\n",
       "\t    322968 & CHEMBL186872  & NSC281668 & NA                                                                                                 & 0005608242     & NA                                                                                                                                                                                                                                                                                                                                                                                                                                                                                                                                                                                                                                                                                                                                        \\\\\n",
       "\\end{tabular}\n"
      ],
      "text/markdown": [
       "\n",
       "A data.table: 61 × 6\n",
       "\n",
       "| cid &lt;int&gt; | ChEMBL ID &lt;chr&gt; | NSC Number &lt;chr&gt; | DILI &lt;chr&gt; | CAS &lt;chr&gt; | ATC Code &lt;chr&gt; |\n",
       "|---|---|---|---|---|---|\n",
       "|   6623618 | CHEMBL492468  | NA        | NA                                                                                                     | N/A         | NA                                                                                                                                                                                                                                                                                                                                                                                                                                                                                                                                                                                                    |\n",
       "|   7326481 | CHEMBL1300397 | NA        | NA                                                                                                     | N/A         | NA                                                                                                                                                                                                                                                                                                                                                                                                                                                                                                                                                                                                    |\n",
       "|   1641662 | NA            | NA        | NA                                                                                                     | N/A         | NA                                                                                                                                                                                                                                                                                                                                                                                                                                                                                                                                                                                                    |\n",
       "|   2842253 | CHEMBL1526042 | NA        | NA                                                                                                     | N/A         | NA                                                                                                                                                                                                                                                                                                                                                                                                                                                                                                                                                                                                    |\n",
       "|   2729026 | CHEMBL1402326 | NA        | NA                                                                                                     | N/A         | NA                                                                                                                                                                                                                                                                                                                                                                                                                                                                                                                                                                                                    |\n",
       "|    613000 | CHEMBL4303295 | NA        | NA                                                                                                     | 32703-82-5  | NA                                                                                                                                                                                                                                                                                                                                                                                                                                                                                                                                                                                                    |\n",
       "|    444795 | CHEMBL38      | NSC759631 | Compound:tretinoin; DILI Annotation:Ambiguous DILI-concern; Severity Grade:3; NA; LTKBID:LT00338       | 302-79-4    | ATC:D10AD51                                                                                                                                                                                                                                                                                                                                                                                                                                                                                                                                                                                           |\n",
       "|     64971 | CHEMBL269277  | NSC677578 | NA                                                                                                     | 472-15-1    | NA                                                                                                                                                                                                                                                                                                                                                                                                                                                                                                                                                                                                    |\n",
       "|      4788 | CHEMBL45068   | NSC407292 | NA                                                                                                     | 60-82-2     | NA                                                                                                                                                                                                                                                                                                                                                                                                                                                                                                                                                                                                    |\n",
       "|      5426 | CHEMBL468     | NSC758479 | Compound:thalidomide; DILI Annotation:Less-DILI-Concern; Severity Grade:4; NA; LTKBID:LT00450          | 21096       | ATC:L04AX02                                                                                                                                                                                                                                                                                                                                                                                                                                                                                                                                                                                           |\n",
       "|      3503 | CHEMBL51483   | NSC728875 | NA                                                                                                     | 20300-26-9  | NA                                                                                                                                                                                                                                                                                                                                                                                                                                                                                                                                                                                                    |\n",
       "|      2708 | CHEMBL515     | NSC756674 | Compound:chlorambucil; DILI Annotation:Less-DILI-Concern; Severity Grade:3; NA; LTKBID:LT00286         | 16180       | ATC:L01AA02                                                                                                                                                                                                                                                                                                                                                                                                                                                                                                                                                                                           |\n",
       "|      3385 | CHEMBL185     | NSC757036 | Compound:fluorouracil; DILI Annotation:Less-DILI-Concern; Label Section:No match; NA; LTKBID:LT01029   | 5005        | ATC:L01BC02                                                                                                                                                                                                                                                                                                                                                                                                                                                                                                                                                                                           |\n",
       "|    638278 | CHEMBL129795  | NA        | NA                                                                                                     | 961-29-5    | NA                                                                                                                                                                                                                                                                                                                                                                                                                                                                                                                                                                                                    |\n",
       "|      2756 | CHEMBL30      | NSC757428 | Compound:cimetidine; DILI Annotation:Less-DILI-Concern; Severity Grade:2; NA; LTKBID:LT01218           | 20034       | ATC:c(\"A - Alimentary tract and metabolism\", \"A02 - Drugs for acid related disorders\", \"A02B - Drugs for peptic ulcer and gastro-oesophageal reflux disease (gord)\", \"A02BA - H2-receptor antagonists\", \"A02BA01 - Cimetidine\")                                                                                                                                                                                                                                                                                                                                                                       |\n",
       "|      2756 | CHEMBL30      | NSC757428 | Compound:cimetidine; DILI Annotation:Less-DILI-Concern; Severity Grade:2; NA; LTKBID:LT01218           | 20034       | ATC:list(list(Start = 0, Length = 1, URL = \"https://www.whocc.no/atc_ddd_index/?code=A\"), list(Start = 0, Length = 3, URL = \"https://www.whocc.no/atc_ddd_index/?code=A02\"), list(Start = 0, Length = 4, URL = \"https://www.whocc.no/atc_ddd_index/?code=A02B\"), list(Start = c(0, 9), Length = c(5, 1), URL = c(\"https://www.whocc.no/atc_ddd_index/?code=A02BA\", NA), Type = c(NA, \"Subscript\")), list(Start = 0, Length = 7, URL = \"https://www.whocc.no/atc_ddd_index/?code=A02BA01\"))                                                                                                            |\n",
       "|      9444 | CHEMBL1489    | NSC758186 | Compound:azacitidine; DILI Annotation:Ambiguous DILI-concern; Severity Grade:8; NA; LTKBID:LT01028     | 19834       | ATC:L01BC07                                                                                                                                                                                                                                                                                                                                                                                                                                                                                                                                                                                           |\n",
       "|      5566 | CHEMBL422     | NA        | Compound:trifluoperazine; DILI Annotation:Ambiguous DILI-concern; Severity Grade:2; NA; LTKBID:LT00457 | 117-89-5    | ATC:c(\"N - Nervous system\", \"N05 - Psycholeptics\", \"N05A - Antipsychotics\", \"N05AB - Phenothiazines with piperazine structure\", \"N05AB06 - Trifluoperazine\")                                                                                                                                                                                                                                                                                                                                                                                                                                          |\n",
       "|      5566 | CHEMBL422     | NA        | Compound:trifluoperazine; DILI Annotation:Ambiguous DILI-concern; Severity Grade:2; NA; LTKBID:LT00457 | 117-89-5    | ATC:list(list(Start = 0, Length = 1, URL = \"https://www.whocc.no/atc_ddd_index/?code=N\"), list(Start = 0, Length = 3, URL = \"https://www.whocc.no/atc_ddd_index/?code=N05\"), list(Start = 0, Length = 4, URL = \"https://www.whocc.no/atc_ddd_index/?code=N05A\"), list(Start = c(0, 28), Length = c(5, 10), URL = c(\"https://www.whocc.no/atc_ddd_index/?code=N05AB\", \"https://pubchem.ncbi.nlm.nih.gov/compound/piperazine\"), Type = c(NA, \"PubChem Internal Link\"), Extra = c(NA, \"CID-4837\")), list(Start = 0, Length = 7, \n",
       "    URL = \"https://www.whocc.no/atc_ddd_index/?code=N05AB06\"))         |\n",
       "|     36314 | CHEMBL428647  | NSC745099 | Compound:paclitaxel; DILI Annotation:Less-DILI-Concern; Severity Grade:4; NA; LTKBID:LT00430           | 21061       | ATC:L01CD01                                                                                                                                                                                                                                                                                                                                                                                                                                                                                                                                                                                           |\n",
       "|   2733526 | CHEMBL83      | NSC727681 | Compound:tamoxifen; DILI Annotation:Most-DILI-Concern; Severity Grade:8; NA; LTKBID:LT00152            | 10540-29-1  | ATC:L02BA01                                                                                                                                                                                                                                                                                                                                                                                                                                                                                                                                                                                           |\n",
       "|    426756 | NA            | NSC758182 | Compound:carboplatin; DILI Annotation:Less-DILI-Concern; Severity Grade:3; NA; LTKBID:LT00061          | NSC 758182  | ATC:L01XA02                                                                                                                                                                                                                                                                                                                                                                                                                                                                                                                                                                                           |\n",
       "|    452548 | CHEMBL452231  | NA        | Compound:teniposide; DILI Annotation:Less-DILI-Concern; Severity Grade:3; NA; LTKBID:LT01786           | 29767-20-2  | ATC:c(\"L - Antineoplastic and immunomodulating agents\", \"L01 - Antineoplastic agents\", \"L01C - Plant alkaloids and other natural products\", \"L01CB - Podophyllotoxin derivatives\", \"L01CB02 - Teniposide\")                                                                                                                                                                                                                                                                                                                                                                                            |\n",
       "|    452548 | CHEMBL452231  | NA        | Compound:teniposide; DILI Annotation:Less-DILI-Concern; Severity Grade:3; NA; LTKBID:LT01786           | 29767-20-2  | ATC:list(list(Start = 0, Length = 1, URL = \"https://www.whocc.no/atc_ddd_index/?code=L\"), list(Start = 0, Length = 3, URL = \"https://www.whocc.no/atc_ddd_index/?code=L01\"), list(Start = 0, Length = 4, URL = \"https://www.whocc.no/atc_ddd_index/?code=L01C\"), list(Start = c(0, 8), Length = c(5, 15), URL = c(\"https://www.whocc.no/atc_ddd_index/?code=L01CB\", \"https://pubchem.ncbi.nlm.nih.gov/compound/Podophyllotoxin\"), Type = c(NA, \"PubChem Internal Link\"), Extra = c(NA, \"CID-11384429\")), list(Start = 0, \n",
       "    Length = 7, URL = \"https://www.whocc.no/atc_ddd_index/?code=L01CB02\")) |\n",
       "| 135398744 | CHEMBL192     | NA        | Compound:sildenafil; DILI Annotation:Less-DILI-Concern; Severity Grade:3; NA; LTKBID:LT01033           | 139755-83-2 | ATC:G04BE03                                                                                                                                                                                                                                                                                                                                                                                                                                                                                                                                                                                           |\n",
       "|     54454 | CHEMBL1064    | NSC758706 | Compound:simvastatin; DILI Annotation:Less-DILI-Concern; Severity Grade:3; NA; LTKBID:LT00142          | 79902-63-9  | ATC:C10AA01                                                                                                                                                                                                                                                                                                                                                                                                                                                                                                                                                                                           |\n",
       "|     26596 | CHEMBL528271  | NSC256420 | NA                                                                                                     | 20833       | NA                                                                                                                                                                                                                                                                                                                                                                                                                                                                                                                                                                                                    |\n",
       "|      4915 | CHEMBL1321    | NSC759626 | Compound:procarbazine; DILI Annotation:Less-DILI-Concern; Severity Grade:3; NA; LTKBID:LT00614         | 671-16-9    | ATC:c(\"L - Antineoplastic and immunomodulating agents\", \"L01 - Antineoplastic agents\", \"L01X - Other antineoplastic agents\", \"L01XB - Methylhydrazines\", \"L01XB01 - Procarbazine\")                                                                                                                                                                                                                                                                                                                                                                                                                    |\n",
       "|      4915 | CHEMBL1321    | NSC759626 | Compound:procarbazine; DILI Annotation:Less-DILI-Concern; Severity Grade:3; NA; LTKBID:LT00614         | 671-16-9    | ATC:list(list(Start = 0, Length = 1, URL = \"https://www.whocc.no/atc_ddd_index/?code=L\"), list(Start = 0, Length = 3, URL = \"https://www.whocc.no/atc_ddd_index/?code=L01\"), list(Start = 0, Length = 4, URL = \"https://www.whocc.no/atc_ddd_index/?code=L01X\"), list(Start = 0, Length = 5, URL = \"https://www.whocc.no/atc_ddd_index/?code=L01XB\"), list(Start = 0, Length = 7, URL = \"https://www.whocc.no/atc_ddd_index/?code=L01XB01\"))                                                                                                                                                          |\n",
       "|    969516 | CHEMBL140     | NSC687842 | NA                                                                                                     | 20062       | NA                                                                                                                                                                                                                                                                                                                                                                                                                                                                                                                                                                                                    |\n",
       "| ⋮ | ⋮ | ⋮ | ⋮ | ⋮ | ⋮ |\n",
       "|     65064 | CHEMBL297453  | NA        | NA                                                                                                 | 989-51-5       | NA                                                                                                                                                                                                                                                                                                                                                                                                                                                                                                                                                                                                                                                                                                                                         |\n",
       "|   5281672 | CHEMBL164     | NSC407290 | NA                                                                                                 | 529-44-2       | NA                                                                                                                                                                                                                                                                                                                                                                                                                                                                                                                                                                                                                                                                                                                                         |\n",
       "|    126941 | CHEMBL34259   | NSC740    | Compound:methotrexate; DILI Annotation:Most-DILI-Concern; Severity Grade:3; NA; LTKBID:LT00026     | 20602          | ATC:L04AX03                                                                                                                                                                                                                                                                                                                                                                                                                                                                                                                                                                                                                                                                                                                                |\n",
       "|     53232 | CHEMBL503     | NSC758662 | Compound:lovastatin; DILI Annotation:Less-DILI-Concern; Severity Grade:3; NA; LTKBID:LT00576       | 75330-75-5     | ATC:c(\"C - Cardiovascular system\", \"C10 - Lipid modifying agents\", \"C10A - Lipid modifying agents, plain\", \"C10AA - Hmg coa reductase inhibitors\", \"C10AA02 - Lovastatin\")                                                                                                                                                                                                                                                                                                                                                                                                                                                                                                                                                                 |\n",
       "|     53232 | CHEMBL503     | NSC758662 | Compound:lovastatin; DILI Annotation:Less-DILI-Concern; Severity Grade:3; NA; LTKBID:LT00576       | 75330-75-5     | ATC:list(list(Start = 0, Length = 1, URL = \"https://www.whocc.no/atc_ddd_index/?code=C\"), list(Start = 0, Length = 3, URL = \"https://www.whocc.no/atc_ddd_index/?code=C10\"), list(Start = c(0, 0), Length = c(4, 4), URL = c(\"https://www.whocc.no/atc_ddd_index/?code=C10A\", \"https://pubchem.ncbi.nlm.nih.gov/compound/C10A\"), Type = c(NA, \"PubChem Internal Link\"), Extra = c(NA, \"CID-41625\")), list(Start = 0, Length = 5, URL = \"https://www.whocc.no/atc_ddd_index/?code=C10AA\"), list(Start = 0, Length = 7, URL = \"https://www.whocc.no/atc_ddd_index/?code=C10AA02\"))                                                                                                                                                           |\n",
       "|    119607 | CHEMBL865     | NSC759846 | Compound:valdecoxib; DILI Annotation:Less-DILI-Concern; Severity Grade:3; NA; LTKBID:LT01971       | 181695-72-7    | ATC:M01AH03                                                                                                                                                                                                                                                                                                                                                                                                                                                                                                                                                                                                                                                                                                                                |\n",
       "|      2907 | CHEMBL88      | NSC756711 | Compound:cyclophosphamide; DILI Annotation:Less-DILI-Concern; Severity Grade:5; NA; LTKBID:LT00013 | 16189          | ATC:c(\"L - Antineoplastic and immunomodulating agents\", \"L01 - Antineoplastic agents\", \"L01A - Alkylating agents\", \"L01AA - Nitrogen mustard analogues\", \"L01AA01 - Cyclophosphamide\")                                                                                                                                                                                                                                                                                                                                                                                                                                                                                                                                                     |\n",
       "|      2907 | CHEMBL88      | NSC756711 | Compound:cyclophosphamide; DILI Annotation:Less-DILI-Concern; Severity Grade:5; NA; LTKBID:LT00013 | 16189          | ATC:list(list(Start = 0, Length = 1, URL = \"https://www.whocc.no/atc_ddd_index/?code=L\"), list(Start = 0, Length = 3, URL = \"https://www.whocc.no/atc_ddd_index/?code=L01\"), list(Start = 0, Length = 4, URL = \"https://www.whocc.no/atc_ddd_index/?code=L01A\"), list(Start = 0, Length = 5, URL = \"https://www.whocc.no/atc_ddd_index/?code=L01AA\"), list(Start = c(0, 10), Length = c(7, 16), URL = c(\"https://www.whocc.no/atc_ddd_index/?code=L01AA01\", \"https://pubchem.ncbi.nlm.nih.gov/compound/Cyclophosphamide\"), \n",
       "    Type = c(NA, \"PubChem Internal Link\"), Extra = c(NA, \"CID-2907\")))                                                                                                                                        |\n",
       "| 135398738 | CHEMBL476     | NSC759610 | NA                                                                                                 | 20085          | ATC:c(\"L - Antineoplastic and immunomodulating agents\", \"L01 - Antineoplastic agents\", \"L01A - Alkylating agents\", \"L01AX - Other alkylating agents\", \"L01AX04 - Dacarbazine\")                                                                                                                                                                                                                                                                                                                                                                                                                                                                                                                                                             |\n",
       "| 135398738 | CHEMBL476     | NSC759610 | NA                                                                                                 | 20085          | ATC:list(list(Start = 0, Length = 1, URL = \"https://www.whocc.no/atc_ddd_index/?code=L\"), list(Start = 0, Length = 3, URL = \"https://www.whocc.no/atc_ddd_index/?code=L01\"), list(Start = 0, Length = 4, URL = \"https://www.whocc.no/atc_ddd_index/?code=L01A\"), list(Start = 0, Length = 5, URL = \"https://www.whocc.no/atc_ddd_index/?code=L01AX\"), list(Start = 0, Length = 7, URL = \"https://www.whocc.no/atc_ddd_index/?code=L01AX04\"))                                                                                                                                                                                                                                                                                               |\n",
       "|      4477 | CHEMBL1448    | NSC758440 | NA                                                                                                 | 50-65-7        | ATC:P02DA01                                                                                                                                                                                                                                                                                                                                                                                                                                                                                                                                                                                                                                                                                                                                |\n",
       "|      4917 | CHEMBL728     | NA        | Compound:prochlorperazine; DILI Annotation:Less-DILI-Concern; Severity Grade:2; NA; LTKBID:LT00437 | 58-38-8        | ATC:c(\"N - Nervous system\", \"N05 - Psycholeptics\", \"N05A - Antipsychotics\", \"N05AB - Phenothiazines with piperazine structure\", \"N05AB04 - Prochlorperazine\")                                                                                                                                                                                                                                                                                                                                                                                                                                                                                                                                                                              |\n",
       "|      4917 | CHEMBL728     | NA        | Compound:prochlorperazine; DILI Annotation:Less-DILI-Concern; Severity Grade:2; NA; LTKBID:LT00437 | 58-38-8        | ATC:list(list(Start = 0, Length = 1, URL = \"https://www.whocc.no/atc_ddd_index/?code=N\"), list(Start = 0, Length = 3, URL = \"https://www.whocc.no/atc_ddd_index/?code=N05\"), list(Start = 0, Length = 4, URL = \"https://www.whocc.no/atc_ddd_index/?code=N05A\"), list(Start = c(0, 28), Length = c(5, 10), URL = c(\"https://www.whocc.no/atc_ddd_index/?code=N05AB\", \"https://pubchem.ncbi.nlm.nih.gov/compound/piperazine\"), Type = c(NA, \"PubChem Internal Link\"), Extra = c(NA, \"CID-4837\")), list(Start = c(0, 10), Length = c(7, \n",
       "16), URL = c(\"https://www.whocc.no/atc_ddd_index/?code=N05AB04\", \"https://pubchem.ncbi.nlm.nih.gov/compound/Prochlorperazine\"), Type = c(NA, \"PubChem Internal Link\"), Extra = c(NA, \"CID-4917\"))) |\n",
       "|      3690 | CHEMBL1024    | NSC759154 | Compound:ifosfamide; DILI Annotation:Less-DILI-Concern; Severity Grade:4; NA; LTKBID:LT00562       | 3778-73-2      | ATC:L01AA06                                                                                                                                                                                                                                                                                                                                                                                                                                                                                                                                                                                                                                                                                                                                |\n",
       "|     31703 | CHEMBL53463   | NA        | Compound:doxorubicin; DILI Annotation:Less-DILI-Concern; Severity Grade:3; NA; LTKBID:LT00335      | 23214-92-8     | ATC:L01DB01                                                                                                                                                                                                                                                                                                                                                                                                                                                                                                                                                                                                                                                                                                                                |\n",
       "|    439501 | CHEMBL222863  | NA        | NA                                                                                                 | 5098           | ATC:c(\"C - Cardiovascular system\", \"C01 - Cardiac therapy\", \"C01A - Cardiac glycosides\", \"C01AC - Strophanthus glycosides\", \"C01AC01 - G-strophanthin\")                                                                                                                                                                                                                                                                                                                                                                                                                                                                                                                                                                                    |\n",
       "|    439501 | CHEMBL222863  | NA        | NA                                                                                                 | 5098           | ATC:list(list(Start = 0, Length = 1, URL = \"https://www.whocc.no/atc_ddd_index/?code=C\"), list(Start = 0, Length = 3, URL = \"https://www.whocc.no/atc_ddd_index/?code=C01\"), list(Start = 0, Length = 4, URL = \"https://www.whocc.no/atc_ddd_index/?code=C01A\"), list(Start = 0, Length = 5, URL = \"https://www.whocc.no/atc_ddd_index/?code=C01AC\"), list(Start = 0, Length = 7, URL = \"https://www.whocc.no/atc_ddd_index/?code=C01AC01\"))                                                                                                                                                                                                                                                                                               |\n",
       "|   1242560 | NA            | NA        | NA                                                                                                 | N/A            | NA                                                                                                                                                                                                                                                                                                                                                                                                                                                                                                                                                                                                                                                                                                                                         |\n",
       "|    637858 | CHEMBL465843  | NA        | NA                                                                                                 | 20069-09-4     | NA                                                                                                                                                                                                                                                                                                                                                                                                                                                                                                                                                                                                                                                                                                                                         |\n",
       "|    613753 | CHEMBL2260448 | NA        | NA                                                                                                 | N/A            | NA                                                                                                                                                                                                                                                                                                                                                                                                                                                                                                                                                                                                                                                                                                                                         |\n",
       "|    409805 | CHEMBL257119  | NA        | NA                                                                                                 | 0733767345     | NA                                                                                                                                                                                                                                                                                                                                                                                                                                                                                                                                                                                                                                                                                                                                         |\n",
       "|      8515 | CHEMBL7064    | NSC75890  | NA                                                                                                 | 129-56-6       | NA                                                                                                                                                                                                                                                                                                                                                                                                                                                                                                                                                                                                                                                                                                                                         |\n",
       "|      8515 | CHEMBL1725279 | NSC75890  | NA                                                                                                 | 129-56-6       | NA                                                                                                                                                                                                                                                                                                                                                                                                                                                                                                                                                                                                                                                                                                                                         |\n",
       "|   5702613 | CHEMBL224877  | NA        | NA                                                                                                 | 0124753975     | NA                                                                                                                                                                                                                                                                                                                                                                                                                                                                                                                                                                                                                                                                                                                                         |\n",
       "|     60700 | CHEMBL84      | NSC641007 | Compound:topotecan; DILI Annotation:No-DILI-Concern; Label Section:No match; NA; LTKBID:LT01824    | 123948-87-8    | ATC:L01CE01                                                                                                                                                                                                                                                                                                                                                                                                                                                                                                                                                                                                                                                                                                                                |\n",
       "|   6610355 | CHEMBL86066   | NA        | NA                                                                                                 | DTXSID80425015 | NA                                                                                                                                                                                                                                                                                                                                                                                                                                                                                                                                                                                                                                                                                                                                         |\n",
       "|   2949965 | CHEMBL1498173 | NA        | NA                                                                                                 | N/A            | NA                                                                                                                                                                                                                                                                                                                                                                                                                                                                                                                                                                                                                                                                                                                                         |\n",
       "|     36462 | CHEMBL44657   | NA        | Compound:etoposide; DILI Annotation:Less-DILI-Concern; Severity Grade:3; NA; LTKBID:LT00094        | 33419-42-0     | ATC:c(\"L - Antineoplastic and immunomodulating agents\", \"L01 - Antineoplastic agents\", \"L01C - Plant alkaloids and other natural products\", \"L01CB - Podophyllotoxin derivatives\", \"L01CB01 - Etoposide\")                                                                                                                                                                                                                                                                                                                                                                                                                                                                                                                                  |\n",
       "|     36462 | CHEMBL44657   | NA        | Compound:etoposide; DILI Annotation:Less-DILI-Concern; Severity Grade:3; NA; LTKBID:LT00094        | 33419-42-0     | ATC:list(list(Start = 0, Length = 1, URL = \"https://www.whocc.no/atc_ddd_index/?code=L\"), list(Start = 0, Length = 3, URL = \"https://www.whocc.no/atc_ddd_index/?code=L01\"), list(Start = 0, Length = 4, URL = \"https://www.whocc.no/atc_ddd_index/?code=L01C\"), list(Start = c(0, 8), Length = c(5, 15), URL = c(\"https://www.whocc.no/atc_ddd_index/?code=L01CB\", \"https://pubchem.ncbi.nlm.nih.gov/compound/Podophyllotoxin\"), Type = c(NA, \"PubChem Internal Link\"), Extra = c(NA, \"CID-11384429\")), list(Start = 0, \n",
       "    Length = 7, URL = \"https://www.whocc.no/atc_ddd_index/?code=L01CB01\"))                                                                                                                                      |\n",
       "|    322968 | CHEMBL186872  | NSC281668 | NA                                                                                                 | 0005608242     | NA                                                                                                                                                                                                                                                                                                                                                                                                                                                                                                                                                                                                                                                                                                                                         |\n",
       "\n"
      ],
      "text/plain": [
       "   cid       ChEMBL ID     NSC Number\n",
       "1    6623618 CHEMBL492468  NA        \n",
       "2    7326481 CHEMBL1300397 NA        \n",
       "3    1641662 NA            NA        \n",
       "4    2842253 CHEMBL1526042 NA        \n",
       "5    2729026 CHEMBL1402326 NA        \n",
       "6     613000 CHEMBL4303295 NA        \n",
       "7     444795 CHEMBL38      NSC759631 \n",
       "8      64971 CHEMBL269277  NSC677578 \n",
       "9       4788 CHEMBL45068   NSC407292 \n",
       "10      5426 CHEMBL468     NSC758479 \n",
       "11      3503 CHEMBL51483   NSC728875 \n",
       "12      2708 CHEMBL515     NSC756674 \n",
       "13      3385 CHEMBL185     NSC757036 \n",
       "14    638278 CHEMBL129795  NA        \n",
       "15      2756 CHEMBL30      NSC757428 \n",
       "16      2756 CHEMBL30      NSC757428 \n",
       "17      9444 CHEMBL1489    NSC758186 \n",
       "18      5566 CHEMBL422     NA        \n",
       "19      5566 CHEMBL422     NA        \n",
       "20     36314 CHEMBL428647  NSC745099 \n",
       "21   2733526 CHEMBL83      NSC727681 \n",
       "22    426756 NA            NSC758182 \n",
       "23    452548 CHEMBL452231  NA        \n",
       "24    452548 CHEMBL452231  NA        \n",
       "25 135398744 CHEMBL192     NA        \n",
       "26     54454 CHEMBL1064    NSC758706 \n",
       "27     26596 CHEMBL528271  NSC256420 \n",
       "28      4915 CHEMBL1321    NSC759626 \n",
       "29      4915 CHEMBL1321    NSC759626 \n",
       "30    969516 CHEMBL140     NSC687842 \n",
       "⋮  ⋮         ⋮             ⋮         \n",
       "32     65064 CHEMBL297453  NA        \n",
       "33   5281672 CHEMBL164     NSC407290 \n",
       "34    126941 CHEMBL34259   NSC740    \n",
       "35     53232 CHEMBL503     NSC758662 \n",
       "36     53232 CHEMBL503     NSC758662 \n",
       "37    119607 CHEMBL865     NSC759846 \n",
       "38      2907 CHEMBL88      NSC756711 \n",
       "39      2907 CHEMBL88      NSC756711 \n",
       "40 135398738 CHEMBL476     NSC759610 \n",
       "41 135398738 CHEMBL476     NSC759610 \n",
       "42      4477 CHEMBL1448    NSC758440 \n",
       "43      4917 CHEMBL728     NA        \n",
       "44      4917 CHEMBL728     NA        \n",
       "45      3690 CHEMBL1024    NSC759154 \n",
       "46     31703 CHEMBL53463   NA        \n",
       "47    439501 CHEMBL222863  NA        \n",
       "48    439501 CHEMBL222863  NA        \n",
       "49   1242560 NA            NA        \n",
       "50    637858 CHEMBL465843  NA        \n",
       "51    613753 CHEMBL2260448 NA        \n",
       "52    409805 CHEMBL257119  NA        \n",
       "53      8515 CHEMBL7064    NSC75890  \n",
       "54      8515 CHEMBL1725279 NSC75890  \n",
       "55   5702613 CHEMBL224877  NA        \n",
       "56     60700 CHEMBL84      NSC641007 \n",
       "57   6610355 CHEMBL86066   NA        \n",
       "58   2949965 CHEMBL1498173 NA        \n",
       "59     36462 CHEMBL44657   NA        \n",
       "60     36462 CHEMBL44657   NA        \n",
       "61    322968 CHEMBL186872  NSC281668 \n",
       "   DILI                                                                                                  \n",
       "1  NA                                                                                                    \n",
       "2  NA                                                                                                    \n",
       "3  NA                                                                                                    \n",
       "4  NA                                                                                                    \n",
       "5  NA                                                                                                    \n",
       "6  NA                                                                                                    \n",
       "7  Compound:tretinoin; DILI Annotation:Ambiguous DILI-concern; Severity Grade:3; NA; LTKBID:LT00338      \n",
       "8  NA                                                                                                    \n",
       "9  NA                                                                                                    \n",
       "10 Compound:thalidomide; DILI Annotation:Less-DILI-Concern; Severity Grade:4; NA; LTKBID:LT00450         \n",
       "11 NA                                                                                                    \n",
       "12 Compound:chlorambucil; DILI Annotation:Less-DILI-Concern; Severity Grade:3; NA; LTKBID:LT00286        \n",
       "13 Compound:fluorouracil; DILI Annotation:Less-DILI-Concern; Label Section:No match; NA; LTKBID:LT01029  \n",
       "14 NA                                                                                                    \n",
       "15 Compound:cimetidine; DILI Annotation:Less-DILI-Concern; Severity Grade:2; NA; LTKBID:LT01218          \n",
       "16 Compound:cimetidine; DILI Annotation:Less-DILI-Concern; Severity Grade:2; NA; LTKBID:LT01218          \n",
       "17 Compound:azacitidine; DILI Annotation:Ambiguous DILI-concern; Severity Grade:8; NA; LTKBID:LT01028    \n",
       "18 Compound:trifluoperazine; DILI Annotation:Ambiguous DILI-concern; Severity Grade:2; NA; LTKBID:LT00457\n",
       "19 Compound:trifluoperazine; DILI Annotation:Ambiguous DILI-concern; Severity Grade:2; NA; LTKBID:LT00457\n",
       "20 Compound:paclitaxel; DILI Annotation:Less-DILI-Concern; Severity Grade:4; NA; LTKBID:LT00430          \n",
       "21 Compound:tamoxifen; DILI Annotation:Most-DILI-Concern; Severity Grade:8; NA; LTKBID:LT00152           \n",
       "22 Compound:carboplatin; DILI Annotation:Less-DILI-Concern; Severity Grade:3; NA; LTKBID:LT00061         \n",
       "23 Compound:teniposide; DILI Annotation:Less-DILI-Concern; Severity Grade:3; NA; LTKBID:LT01786          \n",
       "24 Compound:teniposide; DILI Annotation:Less-DILI-Concern; Severity Grade:3; NA; LTKBID:LT01786          \n",
       "25 Compound:sildenafil; DILI Annotation:Less-DILI-Concern; Severity Grade:3; NA; LTKBID:LT01033          \n",
       "26 Compound:simvastatin; DILI Annotation:Less-DILI-Concern; Severity Grade:3; NA; LTKBID:LT00142         \n",
       "27 NA                                                                                                    \n",
       "28 Compound:procarbazine; DILI Annotation:Less-DILI-Concern; Severity Grade:3; NA; LTKBID:LT00614        \n",
       "29 Compound:procarbazine; DILI Annotation:Less-DILI-Concern; Severity Grade:3; NA; LTKBID:LT00614        \n",
       "30 NA                                                                                                    \n",
       "⋮  ⋮                                                                                                     \n",
       "32 NA                                                                                                    \n",
       "33 NA                                                                                                    \n",
       "34 Compound:methotrexate; DILI Annotation:Most-DILI-Concern; Severity Grade:3; NA; LTKBID:LT00026        \n",
       "35 Compound:lovastatin; DILI Annotation:Less-DILI-Concern; Severity Grade:3; NA; LTKBID:LT00576          \n",
       "36 Compound:lovastatin; DILI Annotation:Less-DILI-Concern; Severity Grade:3; NA; LTKBID:LT00576          \n",
       "37 Compound:valdecoxib; DILI Annotation:Less-DILI-Concern; Severity Grade:3; NA; LTKBID:LT01971          \n",
       "38 Compound:cyclophosphamide; DILI Annotation:Less-DILI-Concern; Severity Grade:5; NA; LTKBID:LT00013    \n",
       "39 Compound:cyclophosphamide; DILI Annotation:Less-DILI-Concern; Severity Grade:5; NA; LTKBID:LT00013    \n",
       "40 NA                                                                                                    \n",
       "41 NA                                                                                                    \n",
       "42 NA                                                                                                    \n",
       "43 Compound:prochlorperazine; DILI Annotation:Less-DILI-Concern; Severity Grade:2; NA; LTKBID:LT00437    \n",
       "44 Compound:prochlorperazine; DILI Annotation:Less-DILI-Concern; Severity Grade:2; NA; LTKBID:LT00437    \n",
       "45 Compound:ifosfamide; DILI Annotation:Less-DILI-Concern; Severity Grade:4; NA; LTKBID:LT00562          \n",
       "46 Compound:doxorubicin; DILI Annotation:Less-DILI-Concern; Severity Grade:3; NA; LTKBID:LT00335         \n",
       "47 NA                                                                                                    \n",
       "48 NA                                                                                                    \n",
       "49 NA                                                                                                    \n",
       "50 NA                                                                                                    \n",
       "51 NA                                                                                                    \n",
       "52 NA                                                                                                    \n",
       "53 NA                                                                                                    \n",
       "54 NA                                                                                                    \n",
       "55 NA                                                                                                    \n",
       "56 Compound:topotecan; DILI Annotation:No-DILI-Concern; Label Section:No match; NA; LTKBID:LT01824       \n",
       "57 NA                                                                                                    \n",
       "58 NA                                                                                                    \n",
       "59 Compound:etoposide; DILI Annotation:Less-DILI-Concern; Severity Grade:3; NA; LTKBID:LT00094           \n",
       "60 Compound:etoposide; DILI Annotation:Less-DILI-Concern; Severity Grade:3; NA; LTKBID:LT00094           \n",
       "61 NA                                                                                                    \n",
       "   CAS           \n",
       "1  N/A           \n",
       "2  N/A           \n",
       "3  N/A           \n",
       "4  N/A           \n",
       "5  N/A           \n",
       "6  32703-82-5    \n",
       "7  302-79-4      \n",
       "8  472-15-1      \n",
       "9  60-82-2       \n",
       "10 21096         \n",
       "11 20300-26-9    \n",
       "12 16180         \n",
       "13 5005          \n",
       "14 961-29-5      \n",
       "15 20034         \n",
       "16 20034         \n",
       "17 19834         \n",
       "18 117-89-5      \n",
       "19 117-89-5      \n",
       "20 21061         \n",
       "21 10540-29-1    \n",
       "22 NSC 758182    \n",
       "23 29767-20-2    \n",
       "24 29767-20-2    \n",
       "25 139755-83-2   \n",
       "26 79902-63-9    \n",
       "27 20833         \n",
       "28 671-16-9      \n",
       "29 671-16-9      \n",
       "30 20062         \n",
       "⋮  ⋮             \n",
       "32 989-51-5      \n",
       "33 529-44-2      \n",
       "34 20602         \n",
       "35 75330-75-5    \n",
       "36 75330-75-5    \n",
       "37 181695-72-7   \n",
       "38 16189         \n",
       "39 16189         \n",
       "40 20085         \n",
       "41 20085         \n",
       "42 50-65-7       \n",
       "43 58-38-8       \n",
       "44 58-38-8       \n",
       "45 3778-73-2     \n",
       "46 23214-92-8    \n",
       "47 5098          \n",
       "48 5098          \n",
       "49 N/A           \n",
       "50 20069-09-4    \n",
       "51 N/A           \n",
       "52 0733767345    \n",
       "53 129-56-6      \n",
       "54 129-56-6      \n",
       "55 0124753975    \n",
       "56 123948-87-8   \n",
       "57 DTXSID80425015\n",
       "58 N/A           \n",
       "59 33419-42-0    \n",
       "60 33419-42-0    \n",
       "61 0005608242    \n",
       "   ATC Code                                                                                                                                                                                                                                                                                                                                                                                                                                                                                                                                                                                                                                                                                                                                  \n",
       "1  NA                                                                                                                                                                                                                                                                                                                                                                                                                                                                                                                                                                                                                                                                                                                                        \n",
       "2  NA                                                                                                                                                                                                                                                                                                                                                                                                                                                                                                                                                                                                                                                                                                                                        \n",
       "3  NA                                                                                                                                                                                                                                                                                                                                                                                                                                                                                                                                                                                                                                                                                                                                        \n",
       "4  NA                                                                                                                                                                                                                                                                                                                                                                                                                                                                                                                                                                                                                                                                                                                                        \n",
       "5  NA                                                                                                                                                                                                                                                                                                                                                                                                                                                                                                                                                                                                                                                                                                                                        \n",
       "6  NA                                                                                                                                                                                                                                                                                                                                                                                                                                                                                                                                                                                                                                                                                                                                        \n",
       "7  ATC:D10AD51                                                                                                                                                                                                                                                                                                                                                                                                                                                                                                                                                                                                                                                                                                                               \n",
       "8  NA                                                                                                                                                                                                                                                                                                                                                                                                                                                                                                                                                                                                                                                                                                                                        \n",
       "9  NA                                                                                                                                                                                                                                                                                                                                                                                                                                                                                                                                                                                                                                                                                                                                        \n",
       "10 ATC:L04AX02                                                                                                                                                                                                                                                                                                                                                                                                                                                                                                                                                                                                                                                                                                                               \n",
       "11 NA                                                                                                                                                                                                                                                                                                                                                                                                                                                                                                                                                                                                                                                                                                                                        \n",
       "12 ATC:L01AA02                                                                                                                                                                                                                                                                                                                                                                                                                                                                                                                                                                                                                                                                                                                               \n",
       "13 ATC:L01BC02                                                                                                                                                                                                                                                                                                                                                                                                                                                                                                                                                                                                                                                                                                                               \n",
       "14 NA                                                                                                                                                                                                                                                                                                                                                                                                                                                                                                                                                                                                                                                                                                                                        \n",
       "15 ATC:c(\"A - Alimentary tract and metabolism\", \"A02 - Drugs for acid related disorders\", \"A02B - Drugs for peptic ulcer and gastro-oesophageal reflux disease (gord)\", \"A02BA - H2-receptor antagonists\", \"A02BA01 - Cimetidine\")                                                                                                                                                                                                                                                                                                                                                                                                                                                                                                           \n",
       "16 ATC:list(list(Start = 0, Length = 1, URL = \"https://www.whocc.no/atc_ddd_index/?code=A\"), list(Start = 0, Length = 3, URL = \"https://www.whocc.no/atc_ddd_index/?code=A02\"), list(Start = 0, Length = 4, URL = \"https://www.whocc.no/atc_ddd_index/?code=A02B\"), list(Start = c(0, 9), Length = c(5, 1), URL = c(\"https://www.whocc.no/atc_ddd_index/?code=A02BA\", NA), Type = c(NA, \"Subscript\")), list(Start = 0, Length = 7, URL = \"https://www.whocc.no/atc_ddd_index/?code=A02BA01\"))                                                                                                                                                                                                                                                \n",
       "17 ATC:L01BC07                                                                                                                                                                                                                                                                                                                                                                                                                                                                                                                                                                                                                                                                                                                               \n",
       "18 ATC:c(\"N - Nervous system\", \"N05 - Psycholeptics\", \"N05A - Antipsychotics\", \"N05AB - Phenothiazines with piperazine structure\", \"N05AB06 - Trifluoperazine\")                                                                                                                                                                                                                                                                                                                                                                                                                                                                                                                                                                              \n",
       "19 ATC:list(list(Start = 0, Length = 1, URL = \"https://www.whocc.no/atc_ddd_index/?code=N\"), list(Start = 0, Length = 3, URL = \"https://www.whocc.no/atc_ddd_index/?code=N05\"), list(Start = 0, Length = 4, URL = \"https://www.whocc.no/atc_ddd_index/?code=N05A\"), list(Start = c(0, 28), Length = c(5, 10), URL = c(\"https://www.whocc.no/atc_ddd_index/?code=N05AB\", \"https://pubchem.ncbi.nlm.nih.gov/compound/piperazine\"), Type = c(NA, \"PubChem Internal Link\"), Extra = c(NA, \"CID-4837\")), list(Start = 0, Length = 7, \\n    URL = \"https://www.whocc.no/atc_ddd_index/?code=N05AB06\"))                                                                                                                                             \n",
       "20 ATC:L01CD01                                                                                                                                                                                                                                                                                                                                                                                                                                                                                                                                                                                                                                                                                                                               \n",
       "21 ATC:L02BA01                                                                                                                                                                                                                                                                                                                                                                                                                                                                                                                                                                                                                                                                                                                               \n",
       "22 ATC:L01XA02                                                                                                                                                                                                                                                                                                                                                                                                                                                                                                                                                                                                                                                                                                                               \n",
       "23 ATC:c(\"L - Antineoplastic and immunomodulating agents\", \"L01 - Antineoplastic agents\", \"L01C - Plant alkaloids and other natural products\", \"L01CB - Podophyllotoxin derivatives\", \"L01CB02 - Teniposide\")                                                                                                                                                                                                                                                                                                                                                                                                                                                                                                                                \n",
       "24 ATC:list(list(Start = 0, Length = 1, URL = \"https://www.whocc.no/atc_ddd_index/?code=L\"), list(Start = 0, Length = 3, URL = \"https://www.whocc.no/atc_ddd_index/?code=L01\"), list(Start = 0, Length = 4, URL = \"https://www.whocc.no/atc_ddd_index/?code=L01C\"), list(Start = c(0, 8), Length = c(5, 15), URL = c(\"https://www.whocc.no/atc_ddd_index/?code=L01CB\", \"https://pubchem.ncbi.nlm.nih.gov/compound/Podophyllotoxin\"), Type = c(NA, \"PubChem Internal Link\"), Extra = c(NA, \"CID-11384429\")), list(Start = 0, \\n    Length = 7, URL = \"https://www.whocc.no/atc_ddd_index/?code=L01CB02\"))                                                                                                                                     \n",
       "25 ATC:G04BE03                                                                                                                                                                                                                                                                                                                                                                                                                                                                                                                                                                                                                                                                                                                               \n",
       "26 ATC:C10AA01                                                                                                                                                                                                                                                                                                                                                                                                                                                                                                                                                                                                                                                                                                                               \n",
       "27 NA                                                                                                                                                                                                                                                                                                                                                                                                                                                                                                                                                                                                                                                                                                                                        \n",
       "28 ATC:c(\"L - Antineoplastic and immunomodulating agents\", \"L01 - Antineoplastic agents\", \"L01X - Other antineoplastic agents\", \"L01XB - Methylhydrazines\", \"L01XB01 - Procarbazine\")                                                                                                                                                                                                                                                                                                                                                                                                                                                                                                                                                        \n",
       "29 ATC:list(list(Start = 0, Length = 1, URL = \"https://www.whocc.no/atc_ddd_index/?code=L\"), list(Start = 0, Length = 3, URL = \"https://www.whocc.no/atc_ddd_index/?code=L01\"), list(Start = 0, Length = 4, URL = \"https://www.whocc.no/atc_ddd_index/?code=L01X\"), list(Start = 0, Length = 5, URL = \"https://www.whocc.no/atc_ddd_index/?code=L01XB\"), list(Start = 0, Length = 7, URL = \"https://www.whocc.no/atc_ddd_index/?code=L01XB01\"))                                                                                                                                                                                                                                                                                              \n",
       "30 NA                                                                                                                                                                                                                                                                                                                                                                                                                                                                                                                                                                                                                                                                                                                                        \n",
       "⋮  ⋮                                                                                                                                                                                                                                                                                                                                                                                                                                                                                                                                                                                                                                                                                                                                         \n",
       "32 NA                                                                                                                                                                                                                                                                                                                                                                                                                                                                                                                                                                                                                                                                                                                                        \n",
       "33 NA                                                                                                                                                                                                                                                                                                                                                                                                                                                                                                                                                                                                                                                                                                                                        \n",
       "34 ATC:L04AX03                                                                                                                                                                                                                                                                                                                                                                                                                                                                                                                                                                                                                                                                                                                               \n",
       "35 ATC:c(\"C - Cardiovascular system\", \"C10 - Lipid modifying agents\", \"C10A - Lipid modifying agents, plain\", \"C10AA - Hmg coa reductase inhibitors\", \"C10AA02 - Lovastatin\")                                                                                                                                                                                                                                                                                                                                                                                                                                                                                                                                                                \n",
       "36 ATC:list(list(Start = 0, Length = 1, URL = \"https://www.whocc.no/atc_ddd_index/?code=C\"), list(Start = 0, Length = 3, URL = \"https://www.whocc.no/atc_ddd_index/?code=C10\"), list(Start = c(0, 0), Length = c(4, 4), URL = c(\"https://www.whocc.no/atc_ddd_index/?code=C10A\", \"https://pubchem.ncbi.nlm.nih.gov/compound/C10A\"), Type = c(NA, \"PubChem Internal Link\"), Extra = c(NA, \"CID-41625\")), list(Start = 0, Length = 5, URL = \"https://www.whocc.no/atc_ddd_index/?code=C10AA\"), list(Start = 0, Length = 7, URL = \"https://www.whocc.no/atc_ddd_index/?code=C10AA02\"))                                                                                                                                                          \n",
       "37 ATC:M01AH03                                                                                                                                                                                                                                                                                                                                                                                                                                                                                                                                                                                                                                                                                                                               \n",
       "38 ATC:c(\"L - Antineoplastic and immunomodulating agents\", \"L01 - Antineoplastic agents\", \"L01A - Alkylating agents\", \"L01AA - Nitrogen mustard analogues\", \"L01AA01 - Cyclophosphamide\")                                                                                                                                                                                                                                                                                                                                                                                                                                                                                                                                                    \n",
       "39 ATC:list(list(Start = 0, Length = 1, URL = \"https://www.whocc.no/atc_ddd_index/?code=L\"), list(Start = 0, Length = 3, URL = \"https://www.whocc.no/atc_ddd_index/?code=L01\"), list(Start = 0, Length = 4, URL = \"https://www.whocc.no/atc_ddd_index/?code=L01A\"), list(Start = 0, Length = 5, URL = \"https://www.whocc.no/atc_ddd_index/?code=L01AA\"), list(Start = c(0, 10), Length = c(7, 16), URL = c(\"https://www.whocc.no/atc_ddd_index/?code=L01AA01\", \"https://pubchem.ncbi.nlm.nih.gov/compound/Cyclophosphamide\"), \\n    Type = c(NA, \"PubChem Internal Link\"), Extra = c(NA, \"CID-2907\")))                                                                                                                                       \n",
       "40 ATC:c(\"L - Antineoplastic and immunomodulating agents\", \"L01 - Antineoplastic agents\", \"L01A - Alkylating agents\", \"L01AX - Other alkylating agents\", \"L01AX04 - Dacarbazine\")                                                                                                                                                                                                                                                                                                                                                                                                                                                                                                                                                            \n",
       "41 ATC:list(list(Start = 0, Length = 1, URL = \"https://www.whocc.no/atc_ddd_index/?code=L\"), list(Start = 0, Length = 3, URL = \"https://www.whocc.no/atc_ddd_index/?code=L01\"), list(Start = 0, Length = 4, URL = \"https://www.whocc.no/atc_ddd_index/?code=L01A\"), list(Start = 0, Length = 5, URL = \"https://www.whocc.no/atc_ddd_index/?code=L01AX\"), list(Start = 0, Length = 7, URL = \"https://www.whocc.no/atc_ddd_index/?code=L01AX04\"))                                                                                                                                                                                                                                                                                              \n",
       "42 ATC:P02DA01                                                                                                                                                                                                                                                                                                                                                                                                                                                                                                                                                                                                                                                                                                                               \n",
       "43 ATC:c(\"N - Nervous system\", \"N05 - Psycholeptics\", \"N05A - Antipsychotics\", \"N05AB - Phenothiazines with piperazine structure\", \"N05AB04 - Prochlorperazine\")                                                                                                                                                                                                                                                                                                                                                                                                                                                                                                                                                                             \n",
       "44 ATC:list(list(Start = 0, Length = 1, URL = \"https://www.whocc.no/atc_ddd_index/?code=N\"), list(Start = 0, Length = 3, URL = \"https://www.whocc.no/atc_ddd_index/?code=N05\"), list(Start = 0, Length = 4, URL = \"https://www.whocc.no/atc_ddd_index/?code=N05A\"), list(Start = c(0, 28), Length = c(5, 10), URL = c(\"https://www.whocc.no/atc_ddd_index/?code=N05AB\", \"https://pubchem.ncbi.nlm.nih.gov/compound/piperazine\"), Type = c(NA, \"PubChem Internal Link\"), Extra = c(NA, \"CID-4837\")), list(Start = c(0, 10), Length = c(7, \\n16), URL = c(\"https://www.whocc.no/atc_ddd_index/?code=N05AB04\", \"https://pubchem.ncbi.nlm.nih.gov/compound/Prochlorperazine\"), Type = c(NA, \"PubChem Internal Link\"), Extra = c(NA, \"CID-4917\")))\n",
       "45 ATC:L01AA06                                                                                                                                                                                                                                                                                                                                                                                                                                                                                                                                                                                                                                                                                                                               \n",
       "46 ATC:L01DB01                                                                                                                                                                                                                                                                                                                                                                                                                                                                                                                                                                                                                                                                                                                               \n",
       "47 ATC:c(\"C - Cardiovascular system\", \"C01 - Cardiac therapy\", \"C01A - Cardiac glycosides\", \"C01AC - Strophanthus glycosides\", \"C01AC01 - G-strophanthin\")                                                                                                                                                                                                                                                                                                                                                                                                                                                                                                                                                                                   \n",
       "48 ATC:list(list(Start = 0, Length = 1, URL = \"https://www.whocc.no/atc_ddd_index/?code=C\"), list(Start = 0, Length = 3, URL = \"https://www.whocc.no/atc_ddd_index/?code=C01\"), list(Start = 0, Length = 4, URL = \"https://www.whocc.no/atc_ddd_index/?code=C01A\"), list(Start = 0, Length = 5, URL = \"https://www.whocc.no/atc_ddd_index/?code=C01AC\"), list(Start = 0, Length = 7, URL = \"https://www.whocc.no/atc_ddd_index/?code=C01AC01\"))                                                                                                                                                                                                                                                                                              \n",
       "49 NA                                                                                                                                                                                                                                                                                                                                                                                                                                                                                                                                                                                                                                                                                                                                        \n",
       "50 NA                                                                                                                                                                                                                                                                                                                                                                                                                                                                                                                                                                                                                                                                                                                                        \n",
       "51 NA                                                                                                                                                                                                                                                                                                                                                                                                                                                                                                                                                                                                                                                                                                                                        \n",
       "52 NA                                                                                                                                                                                                                                                                                                                                                                                                                                                                                                                                                                                                                                                                                                                                        \n",
       "53 NA                                                                                                                                                                                                                                                                                                                                                                                                                                                                                                                                                                                                                                                                                                                                        \n",
       "54 NA                                                                                                                                                                                                                                                                                                                                                                                                                                                                                                                                                                                                                                                                                                                                        \n",
       "55 NA                                                                                                                                                                                                                                                                                                                                                                                                                                                                                                                                                                                                                                                                                                                                        \n",
       "56 ATC:L01CE01                                                                                                                                                                                                                                                                                                                                                                                                                                                                                                                                                                                                                                                                                                                               \n",
       "57 NA                                                                                                                                                                                                                                                                                                                                                                                                                                                                                                                                                                                                                                                                                                                                        \n",
       "58 NA                                                                                                                                                                                                                                                                                                                                                                                                                                                                                                                                                                                                                                                                                                                                        \n",
       "59 ATC:c(\"L - Antineoplastic and immunomodulating agents\", \"L01 - Antineoplastic agents\", \"L01C - Plant alkaloids and other natural products\", \"L01CB - Podophyllotoxin derivatives\", \"L01CB01 - Etoposide\")                                                                                                                                                                                                                                                                                                                                                                                                                                                                                                                                 \n",
       "60 ATC:list(list(Start = 0, Length = 1, URL = \"https://www.whocc.no/atc_ddd_index/?code=L\"), list(Start = 0, Length = 3, URL = \"https://www.whocc.no/atc_ddd_index/?code=L01\"), list(Start = 0, Length = 4, URL = \"https://www.whocc.no/atc_ddd_index/?code=L01C\"), list(Start = c(0, 8), Length = c(5, 15), URL = c(\"https://www.whocc.no/atc_ddd_index/?code=L01CB\", \"https://pubchem.ncbi.nlm.nih.gov/compound/Podophyllotoxin\"), Type = c(NA, \"PubChem Internal Link\"), Extra = c(NA, \"CID-11384429\")), list(Start = 0, \\n    Length = 7, URL = \"https://www.whocc.no/atc_ddd_index/?code=L01CB01\"))                                                                                                                                     \n",
       "61 NA                                                                                                                                                                                                                                                                                                                                                                                                                                                                                                                                                                                                                                                                                                                                        "
      ]
     },
     "metadata": {},
     "output_type": "display_data"
    }
   ],
   "source": [
    "result"
   ]
  },
  {
   "cell_type": "code",
   "execution_count": 94,
   "metadata": {
    "vscode": {
     "languageId": "r"
    }
   },
   "outputs": [
    {
     "data": {
      "text/html": [
       "<table class=\"dataframe\">\n",
       "<caption>A data.table: 4 × 2</caption>\n",
       "<thead>\n",
       "\t<tr><th scope=col>cpd_name</th><th scope=col>cids</th></tr>\n",
       "\t<tr><th scope=col>&lt;chr&gt;</th><th scope=col>&lt;list&gt;</th></tr>\n",
       "</thead>\n",
       "<tbody>\n",
       "\t<tr><td>vincristine</td><td>    5978</td></tr>\n",
       "\t<tr><td>vorapaxar  </td><td>10077130</td></tr>\n",
       "\t<tr><td>vorinostat </td><td>    5311</td></tr>\n",
       "\t<tr><td>zebularine </td><td>  100016</td></tr>\n",
       "</tbody>\n",
       "</table>\n"
      ],
      "text/latex": [
       "A data.table: 4 × 2\n",
       "\\begin{tabular}{ll}\n",
       " cpd\\_name & cids\\\\\n",
       " <chr> & <list>\\\\\n",
       "\\hline\n",
       "\t vincristine &     5978\\\\\n",
       "\t vorapaxar   & 10077130\\\\\n",
       "\t vorinostat  &     5311\\\\\n",
       "\t zebularine  &   100016\\\\\n",
       "\\end{tabular}\n"
      ],
      "text/markdown": [
       "\n",
       "A data.table: 4 × 2\n",
       "\n",
       "| cpd_name &lt;chr&gt; | cids &lt;list&gt; |\n",
       "|---|---|\n",
       "| vincristine |     5978 |\n",
       "| vorapaxar   | 10077130 |\n",
       "| vorinostat  |     5311 |\n",
       "| zebularine  |   100016 |\n",
       "\n"
      ],
      "text/plain": [
       "  cpd_name    cids    \n",
       "1 vincristine     5978\n",
       "2 vorapaxar   10077130\n",
       "3 vorinostat      5311\n",
       "4 zebularine    100016"
      ]
     },
     "metadata": {},
     "output_type": "display_data"
    }
   ],
   "source": [
    "test <- merged[540:545, c(\"cpd_name\",\"cids\")]\n",
    "\n",
    "\n",
    "test\n",
    "\n"
   ]
  },
  {
   "cell_type": "code",
   "execution_count": 21,
   "metadata": {
    "vscode": {
     "languageId": "r"
    }
   },
   "outputs": [
    {
     "data": {
      "text/html": [
       "<ol>\n",
       "\t<li>5978</li>\n",
       "\t<li>10077130</li>\n",
       "\t<li>5311</li>\n",
       "\t<li>NULL</li>\n",
       "\t<li>NULL</li>\n",
       "\t<li>100016</li>\n",
       "</ol>\n"
      ],
      "text/latex": [
       "\\begin{enumerate}\n",
       "\\item 5978\n",
       "\\item 10077130\n",
       "\\item 5311\n",
       "\\item NULL\n",
       "\\item NULL\n",
       "\\item 100016\n",
       "\\end{enumerate}\n"
      ],
      "text/markdown": [
       "1. 5978\n",
       "2. 10077130\n",
       "3. 5311\n",
       "4. NULL\n",
       "5. NULL\n",
       "6. 100016\n",
       "\n",
       "\n"
      ],
      "text/plain": [
       "[[1]]\n",
       "[1] 5978\n",
       "\n",
       "[[2]]\n",
       "[1] 10077130\n",
       "\n",
       "[[3]]\n",
       "[1] 5311\n",
       "\n",
       "[[4]]\n",
       "NULL\n",
       "\n",
       "[[5]]\n",
       "NULL\n",
       "\n",
       "[[6]]\n",
       "[1] 100016\n"
      ]
     },
     "metadata": {},
     "output_type": "display_data"
    }
   ],
   "source": [
    "subs[lapl]"
   ]
  },
  {
   "cell_type": "code",
   "execution_count": null,
   "metadata": {
    "vscode": {
     "languageId": "r"
    }
   },
   "outputs": [],
   "source": []
  },
  {
   "cell_type": "code",
   "execution_count": null,
   "metadata": {
    "vscode": {
     "languageId": "r"
    }
   },
   "outputs": [],
   "source": []
  },
  {
   "cell_type": "code",
   "execution_count": null,
   "metadata": {
    "vscode": {
     "languageId": "r"
    }
   },
   "outputs": [],
   "source": []
  },
  {
   "cell_type": "code",
   "execution_count": null,
   "metadata": {
    "vscode": {
     "languageId": "r"
    }
   },
   "outputs": [],
   "source": []
  },
  {
   "cell_type": "code",
   "execution_count": null,
   "metadata": {
    "vscode": {
     "languageId": "r"
    }
   },
   "outputs": [],
   "source": []
  },
  {
   "cell_type": "code",
   "execution_count": null,
   "metadata": {
    "vscode": {
     "languageId": "r"
    }
   },
   "outputs": [],
   "source": []
  },
  {
   "cell_type": "code",
   "execution_count": null,
   "metadata": {
    "vscode": {
     "languageId": "r"
    }
   },
   "outputs": [],
   "source": []
  },
  {
   "cell_type": "code",
   "execution_count": null,
   "metadata": {
    "vscode": {
     "languageId": "r"
    }
   },
   "outputs": [],
   "source": []
  },
  {
   "cell_type": "code",
   "execution_count": 3,
   "metadata": {
    "vscode": {
     "languageId": "r"
    }
   },
   "outputs": [
    {
     "name": "stdout",
     "output_type": "stream",
     "text": [
      "[1] \"metadata/cellosaurus.RDS\"                           \n",
      "[2] \"metadata/pubchem_annotations_ATC Code.RDS\"          \n",
      "[3] \"metadata/pubchem_annotations_FDA Approved Drugs.RDS\"\n",
      "[4] \"metadata/pubchem_annotations_NSC Number.RDS\"        \n"
     ]
    }
   ],
   "source": [
    "# get all paths in metadata folder\n",
    "metadata_paths <- list.files(path = \"metadata\", pattern = \"*.RDS\", full.names = TRUE)\n",
    "print(metadata_paths)"
   ]
  },
  {
   "cell_type": "code",
   "execution_count": 16,
   "metadata": {
    "vscode": {
     "languageId": "r"
    }
   },
   "outputs": [
    {
     "name": "stdout",
     "output_type": "stream",
     "text": [
      "[1] 1586    4\n"
     ]
    },
    {
     "data": {
      "text/html": [
       "<table class=\"dataframe\">\n",
       "<caption>A data.table: 5 × 4</caption>\n",
       "<thead>\n",
       "\t<tr><th scope=col>SourceName</th><th scope=col>SourceID</th><th scope=col>ATC_code</th><th scope=col>CID</th></tr>\n",
       "\t<tr><th scope=col>&lt;chr&gt;</th><th scope=col>&lt;chr&gt;</th><th scope=col>&lt;chr&gt;</th><th scope=col>&lt;int&gt;</th></tr>\n",
       "</thead>\n",
       "<tbody>\n",
       "\t<tr><td>European Medicines Agency (EMA)</td><td>EMEA/H/C/000073_1</td><td>L01CD02         </td><td>   148124</td></tr>\n",
       "\t<tr><td>European Medicines Agency (EMA)</td><td>EMEA/H/C/000082_1</td><td>L04AA06         </td><td>  5281078</td></tr>\n",
       "\t<tr><td>European Medicines Agency (EMA)</td><td>EMEA/H/C/000088_1</td><td>A10AB04, A10AD04</td><td>118984450</td></tr>\n",
       "\t<tr><td>European Medicines Agency (EMA)</td><td>EMEA/H/C/000089_1</td><td>L01DB           </td><td>    31703</td></tr>\n",
       "\t<tr><td>European Medicines Agency (EMA)</td><td>EMEA/H/C/000089_1</td><td>L01DB           </td><td>   443939</td></tr>\n",
       "</tbody>\n",
       "</table>\n"
      ],
      "text/latex": [
       "A data.table: 5 × 4\n",
       "\\begin{tabular}{llll}\n",
       " SourceName & SourceID & ATC\\_code & CID\\\\\n",
       " <chr> & <chr> & <chr> & <int>\\\\\n",
       "\\hline\n",
       "\t European Medicines Agency (EMA) & EMEA/H/C/000073\\_1 & L01CD02          &    148124\\\\\n",
       "\t European Medicines Agency (EMA) & EMEA/H/C/000082\\_1 & L04AA06          &   5281078\\\\\n",
       "\t European Medicines Agency (EMA) & EMEA/H/C/000088\\_1 & A10AB04, A10AD04 & 118984450\\\\\n",
       "\t European Medicines Agency (EMA) & EMEA/H/C/000089\\_1 & L01DB            &     31703\\\\\n",
       "\t European Medicines Agency (EMA) & EMEA/H/C/000089\\_1 & L01DB            &    443939\\\\\n",
       "\\end{tabular}\n"
      ],
      "text/markdown": [
       "\n",
       "A data.table: 5 × 4\n",
       "\n",
       "| SourceName &lt;chr&gt; | SourceID &lt;chr&gt; | ATC_code &lt;chr&gt; | CID &lt;int&gt; |\n",
       "|---|---|---|---|\n",
       "| European Medicines Agency (EMA) | EMEA/H/C/000073_1 | L01CD02          |    148124 |\n",
       "| European Medicines Agency (EMA) | EMEA/H/C/000082_1 | L04AA06          |   5281078 |\n",
       "| European Medicines Agency (EMA) | EMEA/H/C/000088_1 | A10AB04, A10AD04 | 118984450 |\n",
       "| European Medicines Agency (EMA) | EMEA/H/C/000089_1 | L01DB            |     31703 |\n",
       "| European Medicines Agency (EMA) | EMEA/H/C/000089_1 | L01DB            |    443939 |\n",
       "\n"
      ],
      "text/plain": [
       "  SourceName                      SourceID          ATC_code         CID      \n",
       "1 European Medicines Agency (EMA) EMEA/H/C/000073_1 L01CD02             148124\n",
       "2 European Medicines Agency (EMA) EMEA/H/C/000082_1 L04AA06            5281078\n",
       "3 European Medicines Agency (EMA) EMEA/H/C/000088_1 A10AB04, A10AD04 118984450\n",
       "4 European Medicines Agency (EMA) EMEA/H/C/000089_1 L01DB                31703\n",
       "5 European Medicines Agency (EMA) EMEA/H/C/000089_1 L01DB               443939"
      ]
     },
     "metadata": {},
     "output_type": "display_data"
    }
   ],
   "source": [
    "# read in 2-9\n",
    "atc <- as.data.table(readRDS(metadata_paths[2]))\n",
    "parsed_atc<- AnnotationGx:::.parseATCannotations(atc)\n",
    "print(dim(parsed_atc))\n",
    "parsed_atc[1:5]"
   ]
  },
  {
   "cell_type": "code",
   "execution_count": 21,
   "metadata": {
    "vscode": {
     "languageId": "r"
    }
   },
   "outputs": [
    {
     "data": {
      "text/html": [
       "<style>\n",
       ".list-inline {list-style: none; margin:0; padding: 0}\n",
       ".list-inline>li {display: inline-block}\n",
       ".list-inline>li:not(:last-child)::after {content: \"\\00b7\"; padding: 0 .5ex}\n",
       "</style>\n",
       "<ol class=list-inline><li>'SourceName'</li><li>'SourceID'</li><li>'Description'</li><li>'URL'</li><li>'LicenseNote'</li><li>'LicenseURL'</li><li>'Data'</li><li>'ANID'</li><li>'LinkedRecords'</li></ol>\n"
      ],
      "text/latex": [
       "\\begin{enumerate*}\n",
       "\\item 'SourceName'\n",
       "\\item 'SourceID'\n",
       "\\item 'Description'\n",
       "\\item 'URL'\n",
       "\\item 'LicenseNote'\n",
       "\\item 'LicenseURL'\n",
       "\\item 'Data'\n",
       "\\item 'ANID'\n",
       "\\item 'LinkedRecords'\n",
       "\\end{enumerate*}\n"
      ],
      "text/markdown": [
       "1. 'SourceName'\n",
       "2. 'SourceID'\n",
       "3. 'Description'\n",
       "4. 'URL'\n",
       "5. 'LicenseNote'\n",
       "6. 'LicenseURL'\n",
       "7. 'Data'\n",
       "8. 'ANID'\n",
       "9. 'LinkedRecords'\n",
       "\n",
       "\n"
      ],
      "text/plain": [
       "[1] \"SourceName\"    \"SourceID\"      \"Description\"   \"URL\"          \n",
       "[5] \"LicenseNote\"   \"LicenseURL\"    \"Data\"          \"ANID\"         \n",
       "[9] \"LinkedRecords\""
      ]
     },
     "metadata": {},
     "output_type": "display_data"
    }
   ],
   "source": [
    "names(dili)"
   ]
  },
  {
   "cell_type": "code",
   "execution_count": 22,
   "metadata": {
    "vscode": {
     "languageId": "r"
    }
   },
   "outputs": [],
   "source": [
    "dili$Data"
   ]
  },
  {
   "cell_type": "code",
   "execution_count": null,
   "metadata": {
    "vscode": {
     "languageId": "r"
    }
   },
   "outputs": [],
   "source": []
  }
 ],
 "metadata": {
  "kernelspec": {
   "display_name": "R",
   "language": "R",
   "name": "ir"
  },
  "language_info": {
   "codemirror_mode": "r",
   "file_extension": ".r",
   "mimetype": "text/x-r-source",
   "name": "R",
   "pygments_lexer": "r",
   "version": "4.3.1"
  },
  "orig_nbformat": 4
 },
 "nbformat": 4,
 "nbformat_minor": 2
}
