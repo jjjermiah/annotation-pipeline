{
 "cells": [
  {
   "cell_type": "code",
   "execution_count": 1,
   "metadata": {
    "vscode": {
     "languageId": "r"
    }
   },
   "outputs": [],
   "source": [
    "library(AnnotationGx)\n",
    "library(data.table)\n",
    "library(httr)\n",
    "library(jsonlite)"
   ]
  },
  {
   "cell_type": "code",
   "execution_count": 2,
   "metadata": {
    "vscode": {
     "languageId": "r"
    }
   },
   "outputs": [],
   "source": [
    "ccle_metadata <- qs::qread(\"/home/bioinf/bhklab/jermiah/psets/PharmacoSet-Pipelines/CCLE/procdata/preprocessedMetadata.qs\")\n",
    "\n",
    "rdataPath <- \"/home/bioinf/bhklab/jermiah/psets/PharmacoSet-Pipelines/CCLE/.RData\"\n",
    "\n",
    "load(rdataPath)"
   ]
  },
  {
   "cell_type": "code",
   "execution_count": 3,
   "metadata": {
    "vscode": {
     "languageId": "r"
    }
   },
   "outputs": [
    {
     "data": {
      "text/html": [
       "<table class=\"dataframe\">\n",
       "<caption>A data.table: 6 × 2</caption>\n",
       "<thead>\n",
       "\t<tr><th scope=col>PubChem.CID</th><th scope=col>CCLE.cleanedTreatmentName</th></tr>\n",
       "\t<tr><th scope=col>&lt;int&gt;</th><th scope=col>&lt;chr&gt;</th></tr>\n",
       "</thead>\n",
       "<tbody>\n",
       "\t<tr><td> 36314</td><td>PACLITAXEL</td></tr>\n",
       "\t<tr><td> 60700</td><td>TOPOTECAN </td></tr>\n",
       "\t<tr><td> 60838</td><td>IRINOTECAN</td></tr>\n",
       "\t<tr><td>176870</td><td>ERLOTINIB </td></tr>\n",
       "\t<tr><td>208908</td><td>LAPATINIB </td></tr>\n",
       "\t<tr><td>216239</td><td>SORAFENIB </td></tr>\n",
       "</tbody>\n",
       "</table>\n"
      ],
      "text/latex": [
       "A data.table: 6 × 2\n",
       "\\begin{tabular}{ll}\n",
       " PubChem.CID & CCLE.cleanedTreatmentName\\\\\n",
       " <int> & <chr>\\\\\n",
       "\\hline\n",
       "\t  36314 & PACLITAXEL\\\\\n",
       "\t  60700 & TOPOTECAN \\\\\n",
       "\t  60838 & IRINOTECAN\\\\\n",
       "\t 176870 & ERLOTINIB \\\\\n",
       "\t 208908 & LAPATINIB \\\\\n",
       "\t 216239 & SORAFENIB \\\\\n",
       "\\end{tabular}\n"
      ],
      "text/markdown": [
       "\n",
       "A data.table: 6 × 2\n",
       "\n",
       "| PubChem.CID &lt;int&gt; | CCLE.cleanedTreatmentName &lt;chr&gt; |\n",
       "|---|---|\n",
       "|  36314 | PACLITAXEL |\n",
       "|  60700 | TOPOTECAN  |\n",
       "|  60838 | IRINOTECAN |\n",
       "| 176870 | ERLOTINIB  |\n",
       "| 208908 | LAPATINIB  |\n",
       "| 216239 | SORAFENIB  |\n",
       "\n"
      ],
      "text/plain": [
       "  PubChem.CID CCLE.cleanedTreatmentName\n",
       "1  36314      PACLITAXEL               \n",
       "2  60700      TOPOTECAN                \n",
       "3  60838      IRINOTECAN               \n",
       "4 176870      ERLOTINIB                \n",
       "5 208908      LAPATINIB                \n",
       "6 216239      SORAFENIB                "
      ]
     },
     "metadata": {},
     "output_type": "display_data"
    }
   ],
   "source": [
    "head(treatmentMetadata[, .(PubChem.CID, CCLE.cleanedTreatmentName)])"
   ]
  },
  {
   "cell_type": "code",
   "execution_count": 4,
   "metadata": {
    "vscode": {
     "languageId": "r"
    }
   },
   "outputs": [],
   "source": [
    "result <- getPubChemAnnotation(compound = treatmentMetadata$PubChem.CID[1])"
   ]
  },
  {
   "cell_type": "code",
   "execution_count": 5,
   "metadata": {
    "vscode": {
     "languageId": "r"
    }
   },
   "outputs": [
    {
     "data": {
      "text/html": [
       "<dl>\n",
       "\t<dt>$cid</dt>\n",
       "\t\t<dd>36314</dd>\n",
       "\t<dt>$`ChEMBL ID`</dt>\n",
       "\t\t<dd>'Compound::CHEMBL428647'</dd>\n",
       "</dl>\n"
      ],
      "text/latex": [
       "\\begin{description}\n",
       "\\item[\\$cid] 36314\n",
       "\\item[\\$`ChEMBL ID`] 'Compound::CHEMBL428647'\n",
       "\\end{description}\n"
      ],
      "text/markdown": [
       "$cid\n",
       ":   36314\n",
       "$`ChEMBL ID`\n",
       ":   'Compound::CHEMBL428647'\n",
       "\n",
       "\n"
      ],
      "text/plain": [
       "$cid\n",
       "[1] 36314\n",
       "\n",
       "$`ChEMBL ID`\n",
       "[1] \"Compound::CHEMBL428647\"\n"
      ]
     },
     "metadata": {},
     "output_type": "display_data"
    }
   ],
   "source": [
    "result"
   ]
  },
  {
   "cell_type": "code",
   "execution_count": 6,
   "metadata": {
    "vscode": {
     "languageId": "r"
    }
   },
   "outputs": [
    {
     "ename": "ERROR",
     "evalue": "Error in h(simpleError(msg, call)): error in evaluating the argument 'X' in selecting a method for function 'bplapply': object 'merged' not found\n",
     "output_type": "error",
     "traceback": [
      "Error in h(simpleError(msg, call)): error in evaluating the argument 'X' in selecting a method for function 'bplapply': object 'merged' not found\nTraceback:\n",
      "1. suppressWarnings(rbindlist(BiocParallel::bptry(BiocParallel::bplapply(c(merged$cids[1:50]), \n .     function(y) {\n .         BiocParallel::bptry(annotationCID <- BiocParallel::bplapply(annotations, \n .             function(x) {\n .                 as.data.table(getPubChemCHEMBL(y, type = x))\n .             }, BPPARAM = BiocParallel::MulticoreParam(workers = 5, \n .                 stop.on.error = FALSE)))\n .         Reduce(function(x, y) merge(x, y, allow.cartesian = TRUE), \n .             annotationCID)\n .     }, BPPARAM = BiocParallel::MulticoreParam(workers = 6, progressbar = TRUE, \n .         stop.on.error = FALSE))), fill = TRUE, ))",
      "2. withCallingHandlers(expr, warning = function(w) if (inherits(w, \n .     classes)) tryInvokeRestart(\"muffleWarning\"))",
      "3. rbindlist(BiocParallel::bptry(BiocParallel::bplapply(c(merged$cids[1:50]), \n .     function(y) {\n .         BiocParallel::bptry(annotationCID <- BiocParallel::bplapply(annotations, \n .             function(x) {\n .                 as.data.table(getPubChemCHEMBL(y, type = x))\n .             }, BPPARAM = BiocParallel::MulticoreParam(workers = 5, \n .                 stop.on.error = FALSE)))\n .         Reduce(function(x, y) merge(x, y, allow.cartesian = TRUE), \n .             annotationCID)\n .     }, BPPARAM = BiocParallel::MulticoreParam(workers = 6, progressbar = TRUE, \n .         stop.on.error = FALSE))), fill = TRUE, )",
      "4. BiocParallel::bptry(BiocParallel::bplapply(c(merged$cids[1:50]), \n .     function(y) {\n .         BiocParallel::bptry(annotationCID <- BiocParallel::bplapply(annotations, \n .             function(x) {\n .                 as.data.table(getPubChemCHEMBL(y, type = x))\n .             }, BPPARAM = BiocParallel::MulticoreParam(workers = 5, \n .                 stop.on.error = FALSE)))\n .         Reduce(function(x, y) merge(x, y, allow.cartesian = TRUE), \n .             annotationCID)\n .     }, BPPARAM = BiocParallel::MulticoreParam(workers = 6, progressbar = TRUE, \n .         stop.on.error = FALSE)))",
      "5. tryCatch(expr, ..., bplist_error = bplist_error, bperror = bperror)",
      "6. tryCatchList(expr, classes, parentenv, handlers)",
      "7. tryCatchOne(tryCatchList(expr, names[-nh], parentenv, handlers[-nh]), \n .     names[nh], parentenv, handlers[[nh]])",
      "8. doTryCatch(return(expr), name, parentenv, handler)",
      "9. tryCatchList(expr, names[-nh], parentenv, handlers[-nh])",
      "10. tryCatchOne(expr, names, parentenv, handlers[[1L]])",
      "11. doTryCatch(return(expr), name, parentenv, handler)",
      "12. BiocParallel::bplapply(c(merged$cids[1:50]), function(y) {\n  .     BiocParallel::bptry(annotationCID <- BiocParallel::bplapply(annotations, \n  .         function(x) {\n  .             as.data.table(getPubChemCHEMBL(y, type = x))\n  .         }, BPPARAM = BiocParallel::MulticoreParam(workers = 5, \n  .             stop.on.error = FALSE)))\n  .     Reduce(function(x, y) merge(x, y, allow.cartesian = TRUE), \n  .         annotationCID)\n  . }, BPPARAM = BiocParallel::MulticoreParam(workers = 6, progressbar = TRUE, \n  .     stop.on.error = FALSE))",
      "13. .handleSimpleError(function (cond) \n  . .Internal(C_tryCatchHelper(addr, 1L, cond)), \"object 'merged' not found\", \n  .     base::quote(eval(expr, envir, enclos)))",
      "14. h(simpleError(msg, call))"
     ]
    }
   ],
   "source": [
    "# merged$cids[1:10]\n",
    "\n",
    "annotations <- c('ChEMBL ID', 'NSC Number', 'DILI', 'CAS', 'ATC Code')\n",
    "# parallelRun<- BiocParallel::MulticoreParam(workers=8, progressbar=TRUE, stop.on.error=FALSE)\n",
    "\n",
    "result <- \n",
    "    suppressWarnings(rbindlist(\n",
    "        BiocParallel::bptry(\n",
    "                BiocParallel::bplapply(\n",
    "            c(merged$cids[1:50]), function(y){\n",
    "                BiocParallel::bptry(\n",
    "                    annotationCID <- BiocParallel::bplapply(annotations, function(x) {\n",
    "                        as.data.table(getPubChemCHEMBL(y, type = x))\n",
    "                        },\n",
    "                        BPPARAM = BiocParallel::MulticoreParam(workers = 5, stop.on.error=FALSE)\n",
    "                    )\n",
    "                )\n",
    "                Reduce(function(x, y) merge(x, y, allow.cartesian = TRUE), annotationCID)\n",
    "            },\n",
    "            BPPARAM = BiocParallel::MulticoreParam(workers = 6, progressbar = TRUE, stop.on.error=FALSE)\n",
    "        )\n",
    "    ),\n",
    "    fill = TRUE,\n",
    "))\n",
    "# save result to RDS file \n",
    "saveRDS(result, \"ctrp_pubchem_annotations.RDS\")"
   ]
  },
  {
   "cell_type": "code",
   "execution_count": null,
   "metadata": {
    "vscode": {
     "languageId": "r"
    }
   },
   "outputs": [],
   "source": []
  },
  {
   "cell_type": "code",
   "execution_count": null,
   "metadata": {
    "vscode": {
     "languageId": "r"
    }
   },
   "outputs": [],
   "source": [
    "result"
   ]
  },
  {
   "cell_type": "code",
   "execution_count": null,
   "metadata": {
    "vscode": {
     "languageId": "r"
    }
   },
   "outputs": [],
   "source": [
    "test <- merged[540:545, c(\"cpd_name\",\"cids\")]\n",
    "\n",
    "\n",
    "test\n",
    "\n"
   ]
  },
  {
   "cell_type": "code",
   "execution_count": null,
   "metadata": {
    "vscode": {
     "languageId": "r"
    }
   },
   "outputs": [],
   "source": [
    "subs[lapl]"
   ]
  },
  {
   "cell_type": "code",
   "execution_count": null,
   "metadata": {
    "vscode": {
     "languageId": "r"
    }
   },
   "outputs": [],
   "source": []
  },
  {
   "cell_type": "code",
   "execution_count": null,
   "metadata": {
    "vscode": {
     "languageId": "r"
    }
   },
   "outputs": [],
   "source": []
  },
  {
   "cell_type": "code",
   "execution_count": null,
   "metadata": {
    "vscode": {
     "languageId": "r"
    }
   },
   "outputs": [],
   "source": []
  },
  {
   "cell_type": "code",
   "execution_count": null,
   "metadata": {
    "vscode": {
     "languageId": "r"
    }
   },
   "outputs": [],
   "source": []
  },
  {
   "cell_type": "code",
   "execution_count": null,
   "metadata": {
    "vscode": {
     "languageId": "r"
    }
   },
   "outputs": [],
   "source": []
  },
  {
   "cell_type": "code",
   "execution_count": null,
   "metadata": {
    "vscode": {
     "languageId": "r"
    }
   },
   "outputs": [],
   "source": []
  },
  {
   "cell_type": "code",
   "execution_count": null,
   "metadata": {
    "vscode": {
     "languageId": "r"
    }
   },
   "outputs": [],
   "source": []
  },
  {
   "cell_type": "code",
   "execution_count": null,
   "metadata": {
    "vscode": {
     "languageId": "r"
    }
   },
   "outputs": [],
   "source": []
  },
  {
   "cell_type": "code",
   "execution_count": null,
   "metadata": {
    "vscode": {
     "languageId": "r"
    }
   },
   "outputs": [],
   "source": [
    "# get all paths in metadata folder\n",
    "metadata_paths <- list.files(path = \"metadata\", pattern = \"*.RDS\", full.names = TRUE)\n",
    "print(metadata_paths)"
   ]
  },
  {
   "cell_type": "code",
   "execution_count": null,
   "metadata": {
    "vscode": {
     "languageId": "r"
    }
   },
   "outputs": [],
   "source": [
    "# read in 2-9\n",
    "atc <- as.data.table(readRDS(metadata_paths[2]))\n",
    "parsed_atc<- AnnotationGx:::.parseATCannotations(atc)\n",
    "print(dim(parsed_atc))\n",
    "parsed_atc[1:5]"
   ]
  },
  {
   "cell_type": "code",
   "execution_count": null,
   "metadata": {
    "vscode": {
     "languageId": "r"
    }
   },
   "outputs": [],
   "source": [
    "names(dili)"
   ]
  },
  {
   "cell_type": "code",
   "execution_count": null,
   "metadata": {
    "vscode": {
     "languageId": "r"
    }
   },
   "outputs": [],
   "source": [
    "dili$Data"
   ]
  },
  {
   "cell_type": "code",
   "execution_count": null,
   "metadata": {
    "vscode": {
     "languageId": "r"
    }
   },
   "outputs": [],
   "source": []
  }
 ],
 "metadata": {
  "kernelspec": {
   "display_name": "R",
   "language": "R",
   "name": "ir"
  },
  "language_info": {
   "codemirror_mode": "r",
   "file_extension": ".r",
   "mimetype": "text/x-r-source",
   "name": "R",
   "pygments_lexer": "r",
   "version": "4.3.1"
  },
  "orig_nbformat": 4
 },
 "nbformat": 4,
 "nbformat_minor": 2
}
