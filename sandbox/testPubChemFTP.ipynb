{
 "cells": [
  {
   "cell_type": "code",
   "execution_count": 1,
   "metadata": {},
   "outputs": [],
   "source": [
    "import pandas as pd\n",
    "from bs4 import BeautifulSoup\n",
    "# Import the required library\n",
    "import xml.etree.ElementTree as ET\n",
    "import json\n",
    "import xmltodict"
   ]
  },
  {
   "cell_type": "code",
   "execution_count": 3,
   "metadata": {},
   "outputs": [],
   "source": [
    "import gzip\n",
    "from xml.dom import minidom\n",
    "from xml.dom.minidom import parse, parseString\n",
    "\n",
    "# open and read gzipped xml file\n",
    "infile = gzip.open('/home/bioinf/bhklab/jermiah/Compound_011000001_011500000.xml.gz')\n",
    "content = infile.read()\n",
    "\n",
    "# parse xml file content\n",
    "dom = minidom.parseString(content)"
   ]
  },
  {
   "cell_type": "code",
   "execution_count": 9,
   "metadata": {},
   "outputs": [
    {
     "ename": "",
     "evalue": "",
     "output_type": "error",
     "traceback": [
      "\u001b[1;31mThe Kernel crashed while executing code in the the current cell or a previous cell. Please review the code in the cell(s) to identify a possible cause of the failure. Click <a href='https://aka.ms/vscodeJupyterKernelCrash'>here</a> for more info. View Jupyter <a href='command:jupyter.viewOutput'>log</a> for further details."
     ]
    }
   ],
   "source": [
    "# Reading the data inside the xml\n",
    "# file to a variable under the name \n",
    "# data\n",
    "# only read in the first 100 lines\n",
    "with open('/home/bioinf/bhklab/jermiah/Compound_011000001_011500000.xml', 'r') as f:\n",
    "    # first 100 lines\n",
    "    data = f.readlines()\n",
    "\n",
    "    "
   ]
  },
  {
   "cell_type": "code",
   "execution_count": null,
   "metadata": {},
   "outputs": [],
   "source": [
    "# join the lines\n",
    "data = ''.join(data)\n",
    "# remove the whitespace\n",
    "data = data.replace(\" \", \"\")\n",
    "# parse the xml\n",
    "soup = BeautifulSoup(data, \"xml\")\n",
    "# print(soup.prettify())"
   ]
  },
  {
   "cell_type": "code",
   "execution_count": 8,
   "metadata": {},
   "outputs": [
    {
     "ename": "UnicodeDecodeError",
     "evalue": "'utf-8' codec can't decode byte 0x80 in position 1: invalid start byte",
     "output_type": "error",
     "traceback": [
      "\u001b[0;31m---------------------------------------------------------------------------\u001b[0m",
      "\u001b[0;31mUnicodeDecodeError\u001b[0m                        Traceback (most recent call last)",
      "\u001b[1;32m/home/bioinf/bhklab/jermiah/projects/annotationScripts/testPubChemFTP.ipynb Cell 3\u001b[0m line \u001b[0;36m7\n\u001b[1;32m      <a href='vscode-notebook-cell://ssh-remote%2Bbioinformatics1/home/bioinf/bhklab/jermiah/projects/annotationScripts/testPubChemFTP.ipynb#W4sdnNjb2RlLXJlbW90ZQ%3D%3D?line=2'>3</a>\u001b[0m decoder \u001b[39m=\u001b[39m asn1\u001b[39m.\u001b[39mDecoder()\n\u001b[1;32m      <a href='vscode-notebook-cell://ssh-remote%2Bbioinformatics1/home/bioinf/bhklab/jermiah/projects/annotationScripts/testPubChemFTP.ipynb#W4sdnNjb2RlLXJlbW90ZQ%3D%3D?line=4'>5</a>\u001b[0m \u001b[39mwith\u001b[39;00m \u001b[39mopen\u001b[39m(\u001b[39m\"\u001b[39m\u001b[39m/home/bioinf/bhklab/jermiah/Compound_011000001_011500000.asn\u001b[39m\u001b[39m\"\u001b[39m, \u001b[39m\"\u001b[39m\u001b[39mr\u001b[39m\u001b[39m\"\u001b[39m) \u001b[39mas\u001b[39;00m file:\n\u001b[0;32m----> <a href='vscode-notebook-cell://ssh-remote%2Bbioinformatics1/home/bioinf/bhklab/jermiah/projects/annotationScripts/testPubChemFTP.ipynb#W4sdnNjb2RlLXJlbW90ZQ%3D%3D?line=6'>7</a>\u001b[0m     decoder\u001b[39m.\u001b[39mstart(\u001b[39mnext\u001b[39;49m(file))\n\u001b[1;32m      <a href='vscode-notebook-cell://ssh-remote%2Bbioinformatics1/home/bioinf/bhklab/jermiah/projects/annotationScripts/testPubChemFTP.ipynb#W4sdnNjb2RlLXJlbW90ZQ%3D%3D?line=7'>8</a>\u001b[0m     tag, value \u001b[39m=\u001b[39m decoder\u001b[39m.\u001b[39mread()\n",
      "File \u001b[0;32m<frozen codecs>:322\u001b[0m, in \u001b[0;36mdecode\u001b[0;34m(self, input, final)\u001b[0m\n",
      "\u001b[0;31mUnicodeDecodeError\u001b[0m: 'utf-8' codec can't decode byte 0x80 in position 1: invalid start byte"
     ]
    }
   ],
   "source": [
    "import asn1\n",
    "\n",
    "decoder = asn1.Decoder()\n",
    "\n",
    "with open(\"/home/bioinf/bhklab/jermiah/Compound_011000001_011500000.asn\", \"r\") as file:\n",
    "\n",
    "    decoder.start(next(file))\n",
    "    tag, value = decoder.read()"
   ]
  },
  {
   "cell_type": "code",
   "execution_count": null,
   "metadata": {},
   "outputs": [],
   "source": [
    "import asn1tools\n"
   ]
  },
  {
   "cell_type": "code",
   "execution_count": null,
   "metadata": {},
   "outputs": [],
   "source": []
  }
 ],
 "metadata": {
  "kernelspec": {
   "display_name": "agx",
   "language": "python",
   "name": "python3"
  },
  "language_info": {
   "codemirror_mode": {
    "name": "ipython",
    "version": 3
   },
   "file_extension": ".py",
   "mimetype": "text/x-python",
   "name": "python",
   "nbconvert_exporter": "python",
   "pygments_lexer": "ipython3",
   "version": "3.11.5"
  }
 },
 "nbformat": 4,
 "nbformat_minor": 2
}
