{
 "cells": [
  {
   "cell_type": "code",
   "execution_count": 14,
   "metadata": {
    "vscode": {
     "languageId": "r"
    }
   },
   "outputs": [],
   "source": [
    "treatmentMetadataFile <- \"/home/bioinf/bhklab/jermiah/projects/annotationScripts/rawdata/ctrp/v20.meta.per_compound.txt\"\n",
    "treatmentMetadata <- data.table::fread(treatmentMetadataFile, sep = \"\\t\", check.names=TRUE)\n"
   ]
  },
  {
   "cell_type": "code",
   "execution_count": 15,
   "metadata": {
    "vscode": {
     "languageId": "r"
    }
   },
   "outputs": [
    {
     "data": {
      "text/html": [
       "<table class=\"dataframe\">\n",
       "<caption>A data.table: 5 × 11</caption>\n",
       "<thead>\n",
       "\t<tr><th scope=col>master_cpd_id</th><th scope=col>cpd_name</th><th scope=col>broad_cpd_id</th><th scope=col>top_test_conc_umol</th><th scope=col>cpd_status</th><th scope=col>inclusion_rationale</th><th scope=col>gene_symbol_of_protein_target</th><th scope=col>target_or_activity_of_compound</th><th scope=col>source_name</th><th scope=col>source_catalog_id</th><th scope=col>cpd_smiles</th></tr>\n",
       "\t<tr><th scope=col>&lt;int&gt;</th><th scope=col>&lt;chr&gt;</th><th scope=col>&lt;chr&gt;</th><th scope=col>&lt;dbl&gt;</th><th scope=col>&lt;chr&gt;</th><th scope=col>&lt;chr&gt;</th><th scope=col>&lt;chr&gt;</th><th scope=col>&lt;chr&gt;</th><th scope=col>&lt;chr&gt;</th><th scope=col>&lt;chr&gt;</th><th scope=col>&lt;chr&gt;</th></tr>\n",
       "</thead>\n",
       "<tbody>\n",
       "\t<tr><td> 1788</td><td>CIL55              </td><td>BRD-K46556387</td><td> 10</td><td>probe</td><td>pilot-set          </td><td>     </td><td>screening hit                                               </td><td>Columbia University</td><td>           </td><td>CN(C)CCNC(=O)c1cc2CSc3cc(Cl)ccc3-c2s1               </td></tr>\n",
       "\t<tr><td> 3588</td><td>BRD4132            </td><td>BRD-K86574132</td><td>160</td><td>probe</td><td>chromatin;pilot-set</td><td>     </td><td>screening hit                                               </td><td>ChemDiv Inc.       </td><td>4998-1380  </td><td>CC(C)N1C(=O)S\\C(=C\\c2ccc(Sc3nc4ccccc4[nH]3)o2)C1=O</td></tr>\n",
       "\t<tr><td>12877</td><td>BRD6340            </td><td>BRD-K35716340</td><td> 33</td><td>probe</td><td>chromatin;pilot-set</td><td>     </td><td>screening hit                                               </td><td>ChemDiv Inc.       </td><td>1988-0090  </td><td>C(Cn1c2ccccc2c2ccccc12)c1nc2ccccc2[nH]1             </td></tr>\n",
       "\t<tr><td>17712</td><td>ML006              </td><td>BRD-K89692698</td><td>530</td><td>probe</td><td>pilot-set          </td><td>S1PR3</td><td>agonist of sphingosine 1-phosphate receptor 3               </td><td>Enamine Ltd.       </td><td>Z1037336336</td><td>C1CN(CCO1)c1nnc(-c2ccccc2)c(n1)-c1ccccc1            </td></tr>\n",
       "\t<tr><td>18311</td><td>Bax channel blocker</td><td>BRD-A18763547</td><td> 33</td><td>probe</td><td>pilot-set          </td><td>BAX  </td><td>inhibitor of BAX-mediated mitochondrial cytochrome c release</td><td>Maybridge          </td><td>RJC01737   </td><td>OC(CN1CCNCC1)Cn1c2ccc(Br)cc2c2cc(Br)ccc12           </td></tr>\n",
       "</tbody>\n",
       "</table>\n"
      ],
      "text/latex": [
       "A data.table: 5 × 11\n",
       "\\begin{tabular}{lllllllllll}\n",
       " master\\_cpd\\_id & cpd\\_name & broad\\_cpd\\_id & top\\_test\\_conc\\_umol & cpd\\_status & inclusion\\_rationale & gene\\_symbol\\_of\\_protein\\_target & target\\_or\\_activity\\_of\\_compound & source\\_name & source\\_catalog\\_id & cpd\\_smiles\\\\\n",
       " <int> & <chr> & <chr> & <dbl> & <chr> & <chr> & <chr> & <chr> & <chr> & <chr> & <chr>\\\\\n",
       "\\hline\n",
       "\t  1788 & CIL55               & BRD-K46556387 &  10 & probe & pilot-set           &       & screening hit                                                & Columbia University &             & CN(C)CCNC(=O)c1cc2CSc3cc(Cl)ccc3-c2s1               \\\\\n",
       "\t  3588 & BRD4132             & BRD-K86574132 & 160 & probe & chromatin;pilot-set &       & screening hit                                                & ChemDiv Inc.        & 4998-1380   & CC(C)N1C(=O)S\\textbackslash{}C(=C\\textbackslash{}c2ccc(Sc3nc4ccccc4{[}nH{]}3)o2)C1=O\\\\\n",
       "\t 12877 & BRD6340             & BRD-K35716340 &  33 & probe & chromatin;pilot-set &       & screening hit                                                & ChemDiv Inc.        & 1988-0090   & C(Cn1c2ccccc2c2ccccc12)c1nc2ccccc2{[}nH{]}1             \\\\\n",
       "\t 17712 & ML006               & BRD-K89692698 & 530 & probe & pilot-set           & S1PR3 & agonist of sphingosine 1-phosphate receptor 3                & Enamine Ltd.        & Z1037336336 & C1CN(CCO1)c1nnc(-c2ccccc2)c(n1)-c1ccccc1            \\\\\n",
       "\t 18311 & Bax channel blocker & BRD-A18763547 &  33 & probe & pilot-set           & BAX   & inhibitor of BAX-mediated mitochondrial cytochrome c release & Maybridge           & RJC01737    & OC(CN1CCNCC1)Cn1c2ccc(Br)cc2c2cc(Br)ccc12           \\\\\n",
       "\\end{tabular}\n"
      ],
      "text/markdown": [
       "\n",
       "A data.table: 5 × 11\n",
       "\n",
       "| master_cpd_id &lt;int&gt; | cpd_name &lt;chr&gt; | broad_cpd_id &lt;chr&gt; | top_test_conc_umol &lt;dbl&gt; | cpd_status &lt;chr&gt; | inclusion_rationale &lt;chr&gt; | gene_symbol_of_protein_target &lt;chr&gt; | target_or_activity_of_compound &lt;chr&gt; | source_name &lt;chr&gt; | source_catalog_id &lt;chr&gt; | cpd_smiles &lt;chr&gt; |\n",
       "|---|---|---|---|---|---|---|---|---|---|---|\n",
       "|  1788 | CIL55               | BRD-K46556387 |  10 | probe | pilot-set           | <!----> | screening hit                                                | Columbia University | <!----> | CN(C)CCNC(=O)c1cc2CSc3cc(Cl)ccc3-c2s1                |\n",
       "|  3588 | BRD4132             | BRD-K86574132 | 160 | probe | chromatin;pilot-set | <!----> | screening hit                                                | ChemDiv Inc.        | 4998-1380   | CC(C)N1C(=O)S\\C(=C\\c2ccc(Sc3nc4ccccc4[nH]3)o2)C1=O |\n",
       "| 12877 | BRD6340             | BRD-K35716340 |  33 | probe | chromatin;pilot-set | <!----> | screening hit                                                | ChemDiv Inc.        | 1988-0090   | C(Cn1c2ccccc2c2ccccc12)c1nc2ccccc2[nH]1              |\n",
       "| 17712 | ML006               | BRD-K89692698 | 530 | probe | pilot-set           | S1PR3 | agonist of sphingosine 1-phosphate receptor 3                | Enamine Ltd.        | Z1037336336 | C1CN(CCO1)c1nnc(-c2ccccc2)c(n1)-c1ccccc1             |\n",
       "| 18311 | Bax channel blocker | BRD-A18763547 |  33 | probe | pilot-set           | BAX   | inhibitor of BAX-mediated mitochondrial cytochrome c release | Maybridge           | RJC01737    | OC(CN1CCNCC1)Cn1c2ccc(Br)cc2c2cc(Br)ccc12            |\n",
       "\n"
      ],
      "text/plain": [
       "  master_cpd_id cpd_name            broad_cpd_id  top_test_conc_umol cpd_status\n",
       "1  1788         CIL55               BRD-K46556387  10                probe     \n",
       "2  3588         BRD4132             BRD-K86574132 160                probe     \n",
       "3 12877         BRD6340             BRD-K35716340  33                probe     \n",
       "4 17712         ML006               BRD-K89692698 530                probe     \n",
       "5 18311         Bax channel blocker BRD-A18763547  33                probe     \n",
       "  inclusion_rationale gene_symbol_of_protein_target\n",
       "1 pilot-set                                        \n",
       "2 chromatin;pilot-set                              \n",
       "3 chromatin;pilot-set                              \n",
       "4 pilot-set           S1PR3                        \n",
       "5 pilot-set           BAX                          \n",
       "  target_or_activity_of_compound                              \n",
       "1 screening hit                                               \n",
       "2 screening hit                                               \n",
       "3 screening hit                                               \n",
       "4 agonist of sphingosine 1-phosphate receptor 3               \n",
       "5 inhibitor of BAX-mediated mitochondrial cytochrome c release\n",
       "  source_name         source_catalog_id\n",
       "1 Columbia University                  \n",
       "2 ChemDiv Inc.        4998-1380        \n",
       "3 ChemDiv Inc.        1988-0090        \n",
       "4 Enamine Ltd.        Z1037336336      \n",
       "5 Maybridge           RJC01737         \n",
       "  cpd_smiles                                          \n",
       "1 CN(C)CCNC(=O)c1cc2CSc3cc(Cl)ccc3-c2s1               \n",
       "2 CC(C)N1C(=O)S\\\\C(=C\\\\c2ccc(Sc3nc4ccccc4[nH]3)o2)C1=O\n",
       "3 C(Cn1c2ccccc2c2ccccc12)c1nc2ccccc2[nH]1             \n",
       "4 C1CN(CCO1)c1nnc(-c2ccccc2)c(n1)-c1ccccc1            \n",
       "5 OC(CN1CCNCC1)Cn1c2ccc(Br)cc2c2cc(Br)ccc12           "
      ]
     },
     "metadata": {},
     "output_type": "display_data"
    }
   ],
   "source": [
    "treatmentMetadata[1:5]"
   ]
  },
  {
   "cell_type": "code",
   "execution_count": 16,
   "metadata": {
    "vscode": {
     "languageId": "r"
    }
   },
   "outputs": [
    {
     "data": {
      "text/html": [
       "<table class=\"dataframe\">\n",
       "<caption>A data.table: 5 × 12</caption>\n",
       "<thead>\n",
       "\t<tr><th scope=col>master_cpd_id</th><th scope=col>cpd_name</th><th scope=col>broad_cpd_id</th><th scope=col>top_test_conc_umol</th><th scope=col>cpd_status</th><th scope=col>inclusion_rationale</th><th scope=col>gene_symbol_of_protein_target</th><th scope=col>target_or_activity_of_compound</th><th scope=col>source_name</th><th scope=col>source_catalog_id</th><th scope=col>cpd_smiles</th><th scope=col>CTRP.cleanedTreatmentNames</th></tr>\n",
       "\t<tr><th scope=col>&lt;int&gt;</th><th scope=col>&lt;chr&gt;</th><th scope=col>&lt;chr&gt;</th><th scope=col>&lt;dbl&gt;</th><th scope=col>&lt;chr&gt;</th><th scope=col>&lt;chr&gt;</th><th scope=col>&lt;chr&gt;</th><th scope=col>&lt;chr&gt;</th><th scope=col>&lt;chr&gt;</th><th scope=col>&lt;chr&gt;</th><th scope=col>&lt;chr&gt;</th><th scope=col>&lt;chr&gt;</th></tr>\n",
       "</thead>\n",
       "<tbody>\n",
       "\t<tr><td> 1788</td><td>CIL55              </td><td>BRD-K46556387</td><td> 10</td><td>probe</td><td>pilot-set          </td><td>     </td><td>screening hit                                               </td><td>Columbia University</td><td>           </td><td>CN(C)CCNC(=O)c1cc2CSc3cc(Cl)ccc3-c2s1               </td><td>CIL55            </td></tr>\n",
       "\t<tr><td> 3588</td><td>BRD4132            </td><td>BRD-K86574132</td><td>160</td><td>probe</td><td>chromatin;pilot-set</td><td>     </td><td>screening hit                                               </td><td>ChemDiv Inc.       </td><td>4998-1380  </td><td>CC(C)N1C(=O)S\\C(=C\\c2ccc(Sc3nc4ccccc4[nH]3)o2)C1=O</td><td>BRD4132          </td></tr>\n",
       "\t<tr><td>12877</td><td>BRD6340            </td><td>BRD-K35716340</td><td> 33</td><td>probe</td><td>chromatin;pilot-set</td><td>     </td><td>screening hit                                               </td><td>ChemDiv Inc.       </td><td>1988-0090  </td><td>C(Cn1c2ccccc2c2ccccc12)c1nc2ccccc2[nH]1             </td><td>BRD6340          </td></tr>\n",
       "\t<tr><td>17712</td><td>ML006              </td><td>BRD-K89692698</td><td>530</td><td>probe</td><td>pilot-set          </td><td>S1PR3</td><td>agonist of sphingosine 1-phosphate receptor 3               </td><td>Enamine Ltd.       </td><td>Z1037336336</td><td>C1CN(CCO1)c1nnc(-c2ccccc2)c(n1)-c1ccccc1            </td><td>ML006            </td></tr>\n",
       "\t<tr><td>18311</td><td>Bax channel blocker</td><td>BRD-A18763547</td><td> 33</td><td>probe</td><td>pilot-set          </td><td>BAX  </td><td>inhibitor of BAX-mediated mitochondrial cytochrome c release</td><td>Maybridge          </td><td>RJC01737   </td><td>OC(CN1CCNCC1)Cn1c2ccc(Br)cc2c2cc(Br)ccc12           </td><td>BAXCHANNELBLOCKER</td></tr>\n",
       "</tbody>\n",
       "</table>\n"
      ],
      "text/latex": [
       "A data.table: 5 × 12\n",
       "\\begin{tabular}{llllllllllll}\n",
       " master\\_cpd\\_id & cpd\\_name & broad\\_cpd\\_id & top\\_test\\_conc\\_umol & cpd\\_status & inclusion\\_rationale & gene\\_symbol\\_of\\_protein\\_target & target\\_or\\_activity\\_of\\_compound & source\\_name & source\\_catalog\\_id & cpd\\_smiles & CTRP.cleanedTreatmentNames\\\\\n",
       " <int> & <chr> & <chr> & <dbl> & <chr> & <chr> & <chr> & <chr> & <chr> & <chr> & <chr> & <chr>\\\\\n",
       "\\hline\n",
       "\t  1788 & CIL55               & BRD-K46556387 &  10 & probe & pilot-set           &       & screening hit                                                & Columbia University &             & CN(C)CCNC(=O)c1cc2CSc3cc(Cl)ccc3-c2s1                & CIL55            \\\\\n",
       "\t  3588 & BRD4132             & BRD-K86574132 & 160 & probe & chromatin;pilot-set &       & screening hit                                                & ChemDiv Inc.        & 4998-1380   & CC(C)N1C(=O)S\\textbackslash{}C(=C\\textbackslash{}c2ccc(Sc3nc4ccccc4{[}nH{]}3)o2)C1=O & BRD4132          \\\\\n",
       "\t 12877 & BRD6340             & BRD-K35716340 &  33 & probe & chromatin;pilot-set &       & screening hit                                                & ChemDiv Inc.        & 1988-0090   & C(Cn1c2ccccc2c2ccccc12)c1nc2ccccc2{[}nH{]}1              & BRD6340          \\\\\n",
       "\t 17712 & ML006               & BRD-K89692698 & 530 & probe & pilot-set           & S1PR3 & agonist of sphingosine 1-phosphate receptor 3                & Enamine Ltd.        & Z1037336336 & C1CN(CCO1)c1nnc(-c2ccccc2)c(n1)-c1ccccc1             & ML006            \\\\\n",
       "\t 18311 & Bax channel blocker & BRD-A18763547 &  33 & probe & pilot-set           & BAX   & inhibitor of BAX-mediated mitochondrial cytochrome c release & Maybridge           & RJC01737    & OC(CN1CCNCC1)Cn1c2ccc(Br)cc2c2cc(Br)ccc12            & BAXCHANNELBLOCKER\\\\\n",
       "\\end{tabular}\n"
      ],
      "text/markdown": [
       "\n",
       "A data.table: 5 × 12\n",
       "\n",
       "| master_cpd_id &lt;int&gt; | cpd_name &lt;chr&gt; | broad_cpd_id &lt;chr&gt; | top_test_conc_umol &lt;dbl&gt; | cpd_status &lt;chr&gt; | inclusion_rationale &lt;chr&gt; | gene_symbol_of_protein_target &lt;chr&gt; | target_or_activity_of_compound &lt;chr&gt; | source_name &lt;chr&gt; | source_catalog_id &lt;chr&gt; | cpd_smiles &lt;chr&gt; | CTRP.cleanedTreatmentNames &lt;chr&gt; |\n",
       "|---|---|---|---|---|---|---|---|---|---|---|---|\n",
       "|  1788 | CIL55               | BRD-K46556387 |  10 | probe | pilot-set           | <!----> | screening hit                                                | Columbia University | <!----> | CN(C)CCNC(=O)c1cc2CSc3cc(Cl)ccc3-c2s1                | CIL55             |\n",
       "|  3588 | BRD4132             | BRD-K86574132 | 160 | probe | chromatin;pilot-set | <!----> | screening hit                                                | ChemDiv Inc.        | 4998-1380   | CC(C)N1C(=O)S\\C(=C\\c2ccc(Sc3nc4ccccc4[nH]3)o2)C1=O | BRD4132           |\n",
       "| 12877 | BRD6340             | BRD-K35716340 |  33 | probe | chromatin;pilot-set | <!----> | screening hit                                                | ChemDiv Inc.        | 1988-0090   | C(Cn1c2ccccc2c2ccccc12)c1nc2ccccc2[nH]1              | BRD6340           |\n",
       "| 17712 | ML006               | BRD-K89692698 | 530 | probe | pilot-set           | S1PR3 | agonist of sphingosine 1-phosphate receptor 3                | Enamine Ltd.        | Z1037336336 | C1CN(CCO1)c1nnc(-c2ccccc2)c(n1)-c1ccccc1             | ML006             |\n",
       "| 18311 | Bax channel blocker | BRD-A18763547 |  33 | probe | pilot-set           | BAX   | inhibitor of BAX-mediated mitochondrial cytochrome c release | Maybridge           | RJC01737    | OC(CN1CCNCC1)Cn1c2ccc(Br)cc2c2cc(Br)ccc12            | BAXCHANNELBLOCKER |\n",
       "\n"
      ],
      "text/plain": [
       "  master_cpd_id cpd_name            broad_cpd_id  top_test_conc_umol cpd_status\n",
       "1  1788         CIL55               BRD-K46556387  10                probe     \n",
       "2  3588         BRD4132             BRD-K86574132 160                probe     \n",
       "3 12877         BRD6340             BRD-K35716340  33                probe     \n",
       "4 17712         ML006               BRD-K89692698 530                probe     \n",
       "5 18311         Bax channel blocker BRD-A18763547  33                probe     \n",
       "  inclusion_rationale gene_symbol_of_protein_target\n",
       "1 pilot-set                                        \n",
       "2 chromatin;pilot-set                              \n",
       "3 chromatin;pilot-set                              \n",
       "4 pilot-set           S1PR3                        \n",
       "5 pilot-set           BAX                          \n",
       "  target_or_activity_of_compound                              \n",
       "1 screening hit                                               \n",
       "2 screening hit                                               \n",
       "3 screening hit                                               \n",
       "4 agonist of sphingosine 1-phosphate receptor 3               \n",
       "5 inhibitor of BAX-mediated mitochondrial cytochrome c release\n",
       "  source_name         source_catalog_id\n",
       "1 Columbia University                  \n",
       "2 ChemDiv Inc.        4998-1380        \n",
       "3 ChemDiv Inc.        1988-0090        \n",
       "4 Enamine Ltd.        Z1037336336      \n",
       "5 Maybridge           RJC01737         \n",
       "  cpd_smiles                                          \n",
       "1 CN(C)CCNC(=O)c1cc2CSc3cc(Cl)ccc3-c2s1               \n",
       "2 CC(C)N1C(=O)S\\\\C(=C\\\\c2ccc(Sc3nc4ccccc4[nH]3)o2)C1=O\n",
       "3 C(Cn1c2ccccc2c2ccccc12)c1nc2ccccc2[nH]1             \n",
       "4 C1CN(CCO1)c1nnc(-c2ccccc2)c(n1)-c1ccccc1            \n",
       "5 OC(CN1CCNCC1)Cn1c2ccc(Br)cc2c2cc(Br)ccc12           \n",
       "  CTRP.cleanedTreatmentNames\n",
       "1 CIL55                     \n",
       "2 BRD4132                   \n",
       "3 BRD6340                   \n",
       "4 ML006                     \n",
       "5 BAXCHANNELBLOCKER         "
      ]
     },
     "metadata": {},
     "output_type": "display_data"
    }
   ],
   "source": [
    "# clean the treatment names and create a column called `CTRP.cleanedTreatmentNames`\n",
    "treatmentMetadata <- treatmentMetadata[, \"CTRP.cleanedTreatmentNames\" := cleanCharacterStrings(cpd_name)]\n",
    "treatmentMetadata[1:5]\n"
   ]
  },
  {
   "cell_type": "code",
   "execution_count": 53,
   "metadata": {
    "vscode": {
     "languageId": "r"
    }
   },
   "outputs": [
    {
     "name": "stdout",
     "output_type": "stream",
     "text": [
      "  |======================================================================| 100%\n",
      "\n"
     ]
    }
   ],
   "source": [
    "THREADS <- 10\n",
    "compound_nameToCIDS <- \n",
    "    AnnotationGx::getPubChemCompound(\n",
    "        treatmentMetadata[1:100, cpd_name], \n",
    "        from='name', \n",
    "        to='cids', \n",
    "        batch = FALSE,\n",
    "        verbose = FALSE,\n",
    "        BPPARAM = BiocParallel::MulticoreParam(workers = THREADS, progressbar = TRUE, stop.on.error = FALSE)\n",
    "    )\n"
   ]
  },
  {
   "cell_type": "code",
   "execution_count": 54,
   "metadata": {
    "vscode": {
     "languageId": "r"
    }
   },
   "outputs": [
    {
     "name": "stdout",
     "output_type": "stream",
     "text": [
      "Classes ‘data.table’ and 'data.frame':\t99 obs. of  2 variables:\n",
      " $ cpd_name: chr  \"CIL55\" \"BRD4132\" \"BRD6340\" \"ML006\" ...\n",
      " $ cids    : int  6623618 7326481 1641662 2842253 2729026 613000 444795 64971 4788 5426 ...\n",
      " - attr(*, \".internal.selfref\")=<externalptr> \n",
      " - attr(*, \"failed\")=List of 1\n",
      "  ..$ :List of 2\n",
      "  .. ..$ query  : chr \"compound 1B\"\n",
      "  .. ..$ failure:List of 1\n",
      "  .. .. ..$ Fault:List of 3\n",
      "  .. .. .. ..$ Code   : chr \"PUGREST.NotFound\"\n",
      "  .. .. .. ..$ Message: chr \"No CID found\"\n",
      "  .. .. .. ..$ Details: chr \"No CID found that matches the given name\"\n"
     ]
    }
   ],
   "source": [
    "compound_nameToCIDS <- compound_nameToCIDS[!duplicated(name),] \n",
    "data.table::setnames(compound_nameToCIDS, \"name\", \"cpd_name\")\n",
    "str(compound_nameToCIDS)\n"
   ]
  },
  {
   "cell_type": "code",
   "execution_count": 57,
   "metadata": {
    "vscode": {
     "languageId": "r"
    }
   },
   "outputs": [
    {
     "data": {
      "text/html": [
       "<table class=\"dataframe\">\n",
       "<caption>A data.table: 1 × 2</caption>\n",
       "<thead>\n",
       "\t<tr><th scope=col>query</th><th scope=col>failure</th></tr>\n",
       "\t<tr><th scope=col>&lt;chr&gt;</th><th scope=col>&lt;list&gt;</th></tr>\n",
       "</thead>\n",
       "<tbody>\n",
       "\t<tr><td>compound 1B</td><td>PUGREST.....</td></tr>\n",
       "</tbody>\n",
       "</table>\n"
      ],
      "text/latex": [
       "A data.table: 1 × 2\n",
       "\\begin{tabular}{ll}\n",
       " query & failure\\\\\n",
       " <chr> & <list>\\\\\n",
       "\\hline\n",
       "\t compound 1B & PUGREST.....\\\\\n",
       "\\end{tabular}\n"
      ],
      "text/markdown": [
       "\n",
       "A data.table: 1 × 2\n",
       "\n",
       "| query &lt;chr&gt; | failure &lt;list&gt; |\n",
       "|---|---|\n",
       "| compound 1B | PUGREST..... |\n",
       "\n"
      ],
      "text/plain": [
       "  query       failure     \n",
       "1 compound 1B PUGREST....."
      ]
     },
     "metadata": {},
     "output_type": "display_data"
    }
   ],
   "source": [
    "# there was 99 successful and 1 failure :\n",
    "data.table::rbindlist(attributes(compound_nameToCIDS)$failed, fill = TRUE)  # get all the failed queries"
   ]
  },
  {
   "cell_type": "code",
   "execution_count": 58,
   "metadata": {
    "vscode": {
     "languageId": "r"
    }
   },
   "outputs": [
    {
     "name": "stdout",
     "output_type": "stream",
     "text": [
      "Classes ‘data.table’ and 'data.frame':\t1 obs. of  13 variables:\n",
      " $ cpd_name                      : chr \"compound 1B\"\n",
      " $ master_cpd_id                 : int 62111\n",
      " $ broad_cpd_id                  : chr \"BRD-A42556028\"\n",
      " $ top_test_conc_umol            : num 66\n",
      " $ cpd_status                    : chr \"probe\"\n",
      " $ inclusion_rationale           : chr \"chromatin;outreach\"\n",
      " $ gene_symbol_of_protein_target : chr \"\"\n",
      " $ target_or_activity_of_compound: chr \"screening hit\"\n",
      " $ source_name                   : chr \"Enamine Ltd.\"\n",
      " $ source_catalog_id             : chr \"T0503-7331\"\n",
      " $ cpd_smiles                    : chr \"CCN(CC)c1ccc(cc1[N+]([O-])=O)C1=NNC(=O)CC1C\"\n",
      " $ CTRP.cleanedTreatmentNames    : chr \"COMPOUND1B\"\n",
      " $ failure                       :List of 1\n",
      "  ..$ :List of 3\n",
      "  .. ..$ Code   : chr \"PUGREST.NotFound\"\n",
      "  .. ..$ Message: chr \"No CID found\"\n",
      "  .. ..$ Details: chr \"No CID found that matches the given name\"\n",
      " - attr(*, \".internal.selfref\")=<externalptr> \n",
      " - attr(*, \"sorted\")= chr \"cpd_name\"\n"
     ]
    }
   ],
   "source": [
    "# The raw metadata has a column for SMILES which we can also use\n",
    "## ----------------- getPubChemCompound using SMILES from failed ----------------- ##\n",
    "\n",
    "# first get the row(s) from the metadata file that corresponds to the failed query\n",
    "failed_dt <- merge(\n",
    "    treatmentMetadata, \n",
    "    data.table::rbindlist(attributes(compound_nameToCIDS)$failed, fill = TRUE),  # get all the failed queries\n",
    "    by.x = \"cpd_name\", \n",
    "    by.y = \"query\")\n",
    "failed_dt |> str()"
   ]
  },
  {
   "cell_type": "code",
   "execution_count": 60,
   "metadata": {
    "vscode": {
     "languageId": "r"
    }
   },
   "outputs": [
    {
     "name": "stdout",
     "output_type": "stream",
     "text": [
      "  |======================================================================| 100%\n",
      "\n"
     ]
    },
    {
     "data": {
      "text/html": [
       "<table class=\"dataframe\">\n",
       "<caption>A data.table: 1 × 2</caption>\n",
       "<thead>\n",
       "\t<tr><th scope=col>cpd_name</th><th scope=col>cids</th></tr>\n",
       "\t<tr><th scope=col>&lt;chr&gt;</th><th scope=col>&lt;int&gt;</th></tr>\n",
       "</thead>\n",
       "<tbody>\n",
       "\t<tr><td>compound 1B</td><td>2874250</td></tr>\n",
       "</tbody>\n",
       "</table>\n"
      ],
      "text/latex": [
       "A data.table: 1 × 2\n",
       "\\begin{tabular}{ll}\n",
       " cpd\\_name & cids\\\\\n",
       " <chr> & <int>\\\\\n",
       "\\hline\n",
       "\t compound 1B & 2874250\\\\\n",
       "\\end{tabular}\n"
      ],
      "text/markdown": [
       "\n",
       "A data.table: 1 × 2\n",
       "\n",
       "| cpd_name &lt;chr&gt; | cids &lt;int&gt; |\n",
       "|---|---|\n",
       "| compound 1B | 2874250 |\n",
       "\n"
      ],
      "text/plain": [
       "  cpd_name    cids   \n",
       "1 compound 1B 2874250"
      ]
     },
     "metadata": {},
     "output_type": "display_data"
    }
   ],
   "source": [
    "smilesToCIDS <- \n",
    "    AnnotationGx::getPubChemCompound(\n",
    "        failed_dt$cpd_smiles, \n",
    "        from='smiles', \n",
    "        to='cids', \n",
    "        batch = FALSE,\n",
    "        verbose = FALSE,\n",
    "        BPPARAM = BiocParallel::MulticoreParam(workers = THREADS, progressbar = TRUE, stop.on.error = FALSE)\n",
    "    )\n",
    "smilesToCIDS <- smilesToCIDS[!duplicated(smiles), ]\n",
    "\n",
    "# Merge the successful smiles queries with the original metadata to get the cpd_name \n",
    "smiles_successful_dt <- merge(\n",
    "    treatmentMetadata, \n",
    "    smilesToCIDS, \n",
    "    by.x = \"cpd_smiles\", \n",
    "    by.y = \"smiles\")[, c(\"cpd_name\", \"cids\")]\n",
    "smiles_successful_dt "
   ]
  },
  {
   "cell_type": "code",
   "execution_count": 61,
   "metadata": {
    "vscode": {
     "languageId": "r"
    }
   },
   "outputs": [
    {
     "name": "stdout",
     "output_type": "stream",
     "text": [
      "Classes ‘data.table’ and 'data.frame':\t100 obs. of  2 variables:\n",
      " $ cpd_name: chr  \"CIL55\" \"BRD4132\" \"BRD6340\" \"ML006\" ...\n",
      " $ cids    : int  6623618 7326481 1641662 2842253 2729026 613000 444795 64971 4788 5426 ...\n",
      " - attr(*, \".internal.selfref\")=<externalptr> \n"
     ]
    },
    {
     "data": {
      "text/html": [
       "<table class=\"dataframe\">\n",
       "<caption>A data.table: 5 × 2</caption>\n",
       "<thead>\n",
       "\t<tr><th scope=col>cpd_name</th><th scope=col>cids</th></tr>\n",
       "\t<tr><th scope=col>&lt;chr&gt;</th><th scope=col>&lt;int&gt;</th></tr>\n",
       "</thead>\n",
       "<tbody>\n",
       "\t<tr><td>CIL55              </td><td>6623618</td></tr>\n",
       "\t<tr><td>BRD4132            </td><td>7326481</td></tr>\n",
       "\t<tr><td>BRD6340            </td><td>1641662</td></tr>\n",
       "\t<tr><td>ML006              </td><td>2842253</td></tr>\n",
       "\t<tr><td>Bax channel blocker</td><td>2729026</td></tr>\n",
       "</tbody>\n",
       "</table>\n"
      ],
      "text/latex": [
       "A data.table: 5 × 2\n",
       "\\begin{tabular}{ll}\n",
       " cpd\\_name & cids\\\\\n",
       " <chr> & <int>\\\\\n",
       "\\hline\n",
       "\t CIL55               & 6623618\\\\\n",
       "\t BRD4132             & 7326481\\\\\n",
       "\t BRD6340             & 1641662\\\\\n",
       "\t ML006               & 2842253\\\\\n",
       "\t Bax channel blocker & 2729026\\\\\n",
       "\\end{tabular}\n"
      ],
      "text/markdown": [
       "\n",
       "A data.table: 5 × 2\n",
       "\n",
       "| cpd_name &lt;chr&gt; | cids &lt;int&gt; |\n",
       "|---|---|\n",
       "| CIL55               | 6623618 |\n",
       "| BRD4132             | 7326481 |\n",
       "| BRD6340             | 1641662 |\n",
       "| ML006               | 2842253 |\n",
       "| Bax channel blocker | 2729026 |\n",
       "\n"
      ],
      "text/plain": [
       "  cpd_name            cids   \n",
       "1 CIL55               6623618\n",
       "2 BRD4132             7326481\n",
       "3 BRD6340             1641662\n",
       "4 ML006               2842253\n",
       "5 Bax channel blocker 2729026"
      ]
     },
     "metadata": {},
     "output_type": "display_data"
    }
   ],
   "source": [
    "# Combine the successful smiles queries with the successful name queries\n",
    "successful_CTRP.master_cpd_ids <- \n",
    "    data.table::rbindlist(\n",
    "        list(\n",
    "            compound_nameToCIDS, \n",
    "            smiles_successful_dt), \n",
    "        fill = TRUE\n",
    "    )\n",
    "# view the \n",
    "successful_CTRP.master_cpd_ids |> str()\n",
    "successful_CTRP.master_cpd_ids[1:5]"
   ]
  },
  {
   "cell_type": "code",
   "execution_count": null,
   "metadata": {
    "vscode": {
     "languageId": "r"
    }
   },
   "outputs": [],
   "source": []
  },
  {
   "cell_type": "markdown",
   "metadata": {},
   "source": [
    "# Use CID to get other annotations\n",
    "\n",
    "We will only use the first 5 cids here"
   ]
  },
  {
   "cell_type": "code",
   "execution_count": 66,
   "metadata": {
    "vscode": {
     "languageId": "r"
    }
   },
   "outputs": [
    {
     "name": "stderr",
     "output_type": "stream",
     "text": [
      "\n",
      "Attaching package: ‘data.table’\n",
      "\n",
      "\n",
      "The following object is masked _by_ ‘.GlobalEnv’:\n",
      "\n",
      "    .N\n",
      "\n",
      "\n"
     ]
    }
   ],
   "source": [
    "source(\"/home/bioinf/bhklab/jermiah/projects/annotationScripts/scripts/getPubChem/newfunctions.R\")"
   ]
  },
  {
   "cell_type": "code",
   "execution_count": 78,
   "metadata": {
    "vscode": {
     "languageId": "r"
    }
   },
   "outputs": [
    {
     "name": "stdout",
     "output_type": "stream",
     "text": [
      "  |========================================================              |  80%"
     ]
    },
    {
     "name": "stderr",
     "output_type": "stream",
     "text": [
      "R_zmq_msg_send errno: 4 strerror: Interrupted system call\n",
      "\n",
      "\n"
     ]
    },
    {
     "name": "stdout",
     "output_type": "stream",
     "text": [
      "  |======================================================================| 100%\n",
      "\n",
      "  |                                                                      |   0%"
     ]
    },
    {
     "name": "stderr",
     "output_type": "stream",
     "text": [
      "R_zmq_msg_send errno: 4 strerror: Interrupted system call\n",
      "\n",
      "\n"
     ]
    },
    {
     "name": "stdout",
     "output_type": "stream",
     "text": [
      "  |==============                                                        |  20%"
     ]
    },
    {
     "name": "stderr",
     "output_type": "stream",
     "text": [
      "R_zmq_msg_send errno: 4 strerror: Interrupted system call\n",
      "\n",
      "\n"
     ]
    },
    {
     "name": "stdout",
     "output_type": "stream",
     "text": [
      "  |============================                                          |  40%"
     ]
    },
    {
     "name": "stderr",
     "output_type": "stream",
     "text": [
      "R_zmq_msg_send errno: 4 strerror: Interrupted system call\n",
      "\n",
      "\n"
     ]
    },
    {
     "name": "stdout",
     "output_type": "stream",
     "text": [
      "  |==========================================                            |  60%"
     ]
    },
    {
     "name": "stderr",
     "output_type": "stream",
     "text": [
      "R_zmq_msg_send errno: 4 strerror: Interrupted system call\n",
      "\n",
      "\n"
     ]
    },
    {
     "name": "stdout",
     "output_type": "stream",
     "text": [
      "  |========================================================              |  80%"
     ]
    },
    {
     "name": "stderr",
     "output_type": "stream",
     "text": [
      "R_zmq_msg_send errno: 4 strerror: Interrupted system call\n",
      "\n",
      "\n"
     ]
    },
    {
     "name": "stdout",
     "output_type": "stream",
     "text": [
      "  |======================================================================| 100%\n",
      "\n",
      "  |======================================================================| 100%\n",
      "\n",
      "  |======================================================================| 100%\n",
      "\n",
      "  |======================================================================| 100%\n",
      "\n"
     ]
    }
   ],
   "source": [
    "annotations <- c('ChEMBL ID', 'NSC Number', 'Drug Induced Liver Injury', 'CAS', 'ATC Code')\n",
    "\n",
    "annotationType = annotations[1]\n",
    "\n",
    "result <- \n",
    "    lapply(\n",
    "        annotations,\n",
    "        function(annotationType){\n",
    "            data.table::rbindlist(\n",
    "                BiocParallel::bptry(\n",
    "                    BiocParallel::bplapply(\n",
    "                            successful_CTRP.master_cpd_ids[1:5,cids], \n",
    "                            function(CID) {\n",
    "                                data.table::as.data.table(getPubChemCHEMBL(CID, type = annotationType))\n",
    "                            },\n",
    "                            BPPARAM = BiocParallel::MulticoreParam(workers = THREADS, progressbar = TRUE, stop.on.error = FALSE)\n",
    "                    )\n",
    "                ),\n",
    "                fill=TRUE\n",
    "            )\n",
    "        }\n",
    "    )\n"
   ]
  },
  {
   "cell_type": "code",
   "execution_count": 86,
   "metadata": {
    "vscode": {
     "languageId": "r"
    }
   },
   "outputs": [
    {
     "data": {
      "text/html": [
       "<table class=\"dataframe\">\n",
       "<caption>A data.table: 5 × 7</caption>\n",
       "<thead>\n",
       "\t<tr><th scope=col>cids</th><th scope=col>cpd_name</th><th scope=col>ChEMBL ID</th><th scope=col>NSC Number</th><th scope=col>Drug Induced Liver Injury</th><th scope=col>CAS</th><th scope=col>ATC Code</th></tr>\n",
       "\t<tr><th scope=col>&lt;int&gt;</th><th scope=col>&lt;chr&gt;</th><th scope=col>&lt;chr&gt;</th><th scope=col>&lt;chr&gt;</th><th scope=col>&lt;chr&gt;</th><th scope=col>&lt;chr&gt;</th><th scope=col>&lt;chr&gt;</th></tr>\n",
       "</thead>\n",
       "<tbody>\n",
       "\t<tr><td>1641662</td><td>BRD6340            </td><td>NA           </td><td>NA</td><td>NA</td><td>N/A           </td><td>NA</td></tr>\n",
       "\t<tr><td>2729026</td><td>Bax channel blocker</td><td>CHEMBL1402326</td><td>NA</td><td>NA</td><td>DTXSID90369557</td><td>NA</td></tr>\n",
       "\t<tr><td>2842253</td><td>ML006              </td><td>CHEMBL1526042</td><td>NA</td><td>NA</td><td>N/A           </td><td>NA</td></tr>\n",
       "\t<tr><td>6623618</td><td>CIL55              </td><td>CHEMBL492468 </td><td>NA</td><td>NA</td><td>N/A           </td><td>NA</td></tr>\n",
       "\t<tr><td>7326481</td><td>BRD4132            </td><td>CHEMBL1300397</td><td>NA</td><td>NA</td><td>N/A           </td><td>NA</td></tr>\n",
       "</tbody>\n",
       "</table>\n"
      ],
      "text/latex": [
       "A data.table: 5 × 7\n",
       "\\begin{tabular}{lllllll}\n",
       " cids & cpd\\_name & ChEMBL ID & NSC Number & Drug Induced Liver Injury & CAS & ATC Code\\\\\n",
       " <int> & <chr> & <chr> & <chr> & <chr> & <chr> & <chr>\\\\\n",
       "\\hline\n",
       "\t 1641662 & BRD6340             & NA            & NA & NA & N/A            & NA\\\\\n",
       "\t 2729026 & Bax channel blocker & CHEMBL1402326 & NA & NA & DTXSID90369557 & NA\\\\\n",
       "\t 2842253 & ML006               & CHEMBL1526042 & NA & NA & N/A            & NA\\\\\n",
       "\t 6623618 & CIL55               & CHEMBL492468  & NA & NA & N/A            & NA\\\\\n",
       "\t 7326481 & BRD4132             & CHEMBL1300397 & NA & NA & N/A            & NA\\\\\n",
       "\\end{tabular}\n"
      ],
      "text/markdown": [
       "\n",
       "A data.table: 5 × 7\n",
       "\n",
       "| cids &lt;int&gt; | cpd_name &lt;chr&gt; | ChEMBL ID &lt;chr&gt; | NSC Number &lt;chr&gt; | Drug Induced Liver Injury &lt;chr&gt; | CAS &lt;chr&gt; | ATC Code &lt;chr&gt; |\n",
       "|---|---|---|---|---|---|---|\n",
       "| 1641662 | BRD6340             | NA            | NA | NA | N/A            | NA |\n",
       "| 2729026 | Bax channel blocker | CHEMBL1402326 | NA | NA | DTXSID90369557 | NA |\n",
       "| 2842253 | ML006               | CHEMBL1526042 | NA | NA | N/A            | NA |\n",
       "| 6623618 | CIL55               | CHEMBL492468  | NA | NA | N/A            | NA |\n",
       "| 7326481 | BRD4132             | CHEMBL1300397 | NA | NA | N/A            | NA |\n",
       "\n"
      ],
      "text/plain": [
       "  cids    cpd_name            ChEMBL ID     NSC Number\n",
       "1 1641662 BRD6340             NA            NA        \n",
       "2 2729026 Bax channel blocker CHEMBL1402326 NA        \n",
       "3 2842253 ML006               CHEMBL1526042 NA        \n",
       "4 6623618 CIL55               CHEMBL492468  NA        \n",
       "5 7326481 BRD4132             CHEMBL1300397 NA        \n",
       "  Drug Induced Liver Injury CAS            ATC Code\n",
       "1 NA                        N/A            NA      \n",
       "2 NA                        DTXSID90369557 NA      \n",
       "3 NA                        N/A            NA      \n",
       "4 NA                        N/A            NA      \n",
       "5 NA                        N/A            NA      "
      ]
     },
     "metadata": {},
     "output_type": "display_data"
    }
   ],
   "source": [
    "\n",
    "# merge all the data together on the \"cid\" column \n",
    "data <- Reduce(function(x, y) merge(x, y, by = \"cid\", all = TRUE), result)\n",
    "data <- merge(successful_CTRP.master_cpd_ids, data, by.x = \"cids\", by.y=\"cid\", all = FALSE)\n",
    "data"
   ]
  },
  {
   "cell_type": "code",
   "execution_count": 76,
   "metadata": {
    "vscode": {
     "languageId": "r"
    }
   },
   "outputs": [
    {
     "data": {
      "text/html": [
       "<table class=\"dataframe\">\n",
       "<caption>A data.table: 5 × 2</caption>\n",
       "<thead>\n",
       "\t<tr><th scope=col>cid</th><th scope=col>ChEMBL ID</th></tr>\n",
       "\t<tr><th scope=col>&lt;int&gt;</th><th scope=col>&lt;chr&gt;</th></tr>\n",
       "</thead>\n",
       "<tbody>\n",
       "\t<tr><td>6623618</td><td>CHEMBL492468 </td></tr>\n",
       "\t<tr><td>7326481</td><td>CHEMBL1300397</td></tr>\n",
       "\t<tr><td>1641662</td><td>NA           </td></tr>\n",
       "\t<tr><td>2842253</td><td>CHEMBL1526042</td></tr>\n",
       "\t<tr><td>2729026</td><td>CHEMBL1402326</td></tr>\n",
       "</tbody>\n",
       "</table>\n"
      ],
      "text/latex": [
       "A data.table: 5 × 2\n",
       "\\begin{tabular}{ll}\n",
       " cid & ChEMBL ID\\\\\n",
       " <int> & <chr>\\\\\n",
       "\\hline\n",
       "\t 6623618 & CHEMBL492468 \\\\\n",
       "\t 7326481 & CHEMBL1300397\\\\\n",
       "\t 1641662 & NA           \\\\\n",
       "\t 2842253 & CHEMBL1526042\\\\\n",
       "\t 2729026 & CHEMBL1402326\\\\\n",
       "\\end{tabular}\n"
      ],
      "text/markdown": [
       "\n",
       "A data.table: 5 × 2\n",
       "\n",
       "| cid &lt;int&gt; | ChEMBL ID &lt;chr&gt; |\n",
       "|---|---|\n",
       "| 6623618 | CHEMBL492468  |\n",
       "| 7326481 | CHEMBL1300397 |\n",
       "| 1641662 | NA            |\n",
       "| 2842253 | CHEMBL1526042 |\n",
       "| 2729026 | CHEMBL1402326 |\n",
       "\n"
      ],
      "text/plain": [
       "  cid     ChEMBL ID    \n",
       "1 6623618 CHEMBL492468 \n",
       "2 7326481 CHEMBL1300397\n",
       "3 1641662 NA           \n",
       "4 2842253 CHEMBL1526042\n",
       "5 2729026 CHEMBL1402326"
      ]
     },
     "metadata": {},
     "output_type": "display_data"
    }
   ],
   "source": [
    "CIDS_to_Annotation <- rbindlist(result, fill = TRUE)\n",
    "CIDS_to_Annotation"
   ]
  },
  {
   "cell_type": "code",
   "execution_count": null,
   "metadata": {
    "vscode": {
     "languageId": "r"
    }
   },
   "outputs": [],
   "source": []
  }
 ],
 "metadata": {
  "kernelspec": {
   "display_name": "R",
   "language": "R",
   "name": "ir"
  },
  "language_info": {
   "codemirror_mode": "r",
   "file_extension": ".r",
   "mimetype": "text/x-r-source",
   "name": "R",
   "pygments_lexer": "r",
   "version": "4.3.1"
  }
 },
 "nbformat": 4,
 "nbformat_minor": 2
}
